{
 "cells": [
  {
   "cell_type": "code",
   "execution_count": 1,
   "metadata": {},
   "outputs": [
    {
     "name": "stderr",
     "output_type": "stream",
     "text": [
      "c:\\Users\\Aniket Konkar\\AppData\\Local\\Programs\\Python\\Python312\\Lib\\site-packages\\tqdm\\auto.py:21: TqdmWarning: IProgress not found. Please update jupyter and ipywidgets. See https://ipywidgets.readthedocs.io/en/stable/user_install.html\n",
      "  from .autonotebook import tqdm as notebook_tqdm\n"
     ]
    },
    {
     "name": "stdout",
     "output_type": "stream",
     "text": [
      "Number of available GPUs: 1\n",
      "GPU 0: NVIDIA GeForce RTX 3070\n"
     ]
    }
   ],
   "source": [
    "import torch\n",
    "from datasets import Dataset\n",
    "\n",
    "# Check if GPU is available\n",
    "if torch.cuda.is_available():\n",
    "    # Get the number of available GPUs\n",
    "    num_gpus = torch.cuda.device_count()\n",
    "    print(f\"Number of available GPUs: {num_gpus}\")\n",
    "    for gpu_id in range(num_gpus):\n",
    "        print(f\"GPU {gpu_id}: {torch.cuda.get_device_name(gpu_id)}\")\n",
    "else:\n",
    "    print(\"No GPU available.\")"
   ]
  },
  {
   "cell_type": "markdown",
   "metadata": {},
   "source": [
    "The below code is fetching the prepared data and providing it as input to train the Vision Transformer mode. I referenced the official Hugging Face documentation to fetch the pretrained model and then train it for my usecase. Documentation Link: https://huggingface.co/docs/transformers/en/model_doc/vit"
   ]
  },
  {
   "cell_type": "code",
   "execution_count": 2,
   "metadata": {},
   "outputs": [],
   "source": [
    "ds = Dataset.load_from_disk(\"dataset/train_dataset_for_vit\")"
   ]
  },
  {
   "cell_type": "code",
   "execution_count": 3,
   "metadata": {},
   "outputs": [],
   "source": [
    "import pickle\n",
    "\n",
    "# File path to the pickle file\n",
    "id2label_file_path = \"dataset/id2label.pkl\"\n",
    "label2id_file_path = \"dataset/label2id.pkl\"\n",
    "\n",
    "# Load the object from the pickle file\n",
    "with open(id2label_file_path, \"rb\") as f:\n",
    "    id2label = pickle.load(f)\n",
    "    \n",
    "# Load the object from the pickle file\n",
    "with open(label2id_file_path, \"rb\") as f:\n",
    "    label2id = pickle.load(f)"
   ]
  },
  {
   "cell_type": "code",
   "execution_count": 4,
   "metadata": {},
   "outputs": [
    {
     "data": {
      "text/plain": [
       "DatasetDict({\n",
       "    train: Dataset({\n",
       "        features: ['image', 'image_file_path', 'labels'],\n",
       "        num_rows: 4088\n",
       "    })\n",
       "    test: Dataset({\n",
       "        features: ['image', 'image_file_path', 'labels'],\n",
       "        num_rows: 455\n",
       "    })\n",
       "})"
      ]
     },
     "execution_count": 4,
     "metadata": {},
     "output_type": "execute_result"
    }
   ],
   "source": [
    "dataset = ds.train_test_split(test_size=0.1, shuffle=True)\n",
    "dataset"
   ]
  },
  {
   "cell_type": "code",
   "execution_count": 5,
   "metadata": {},
   "outputs": [],
   "source": [
    "from transformers import ViTImageProcessor\n",
    "\n",
    "model_name_or_path = 'google/vit-base-patch16-224-in21k'\n",
    "processor = ViTImageProcessor.from_pretrained(model_name_or_path)"
   ]
  },
  {
   "cell_type": "code",
   "execution_count": 6,
   "metadata": {},
   "outputs": [],
   "source": [
    "def process_example(example):\n",
    "    inputs = processor(example['image'], return_tensors='pt')\n",
    "    inputs['labels'] = example['labels']\n",
    "    return inputs"
   ]
  },
  {
   "cell_type": "code",
   "execution_count": 7,
   "metadata": {},
   "outputs": [
    {
     "data": {
      "text/plain": [
       "{'pixel_values': tensor([[[[-0.4196, -0.4588, -0.4196,  ..., -0.4667, -0.4902, -0.4667],\n",
       "          [-0.4510, -0.4824, -0.4588,  ..., -0.4980, -0.4902, -0.4588],\n",
       "          [-0.4588, -0.4353, -0.4118,  ..., -0.4667, -0.4431, -0.4431],\n",
       "          ...,\n",
       "          [-0.3569, -0.4196, -0.3882,  ..., -0.3961, -0.4196, -0.4667],\n",
       "          [-0.3647, -0.4118, -0.4431,  ..., -0.4275, -0.4196, -0.4196],\n",
       "          [-0.4039, -0.4118, -0.3882,  ..., -0.4431, -0.4353, -0.4824]],\n",
       "\n",
       "         [[-0.4667, -0.5137, -0.4902,  ..., -0.5216, -0.5451, -0.5216],\n",
       "          [-0.4980, -0.5373, -0.5294,  ..., -0.5529, -0.5451, -0.5137],\n",
       "          [-0.5059, -0.4902, -0.4824,  ..., -0.5216, -0.4980, -0.4980],\n",
       "          ...,\n",
       "          [-0.4118, -0.4745, -0.4431,  ..., -0.4353, -0.4510, -0.4980],\n",
       "          [-0.4196, -0.4667, -0.4980,  ..., -0.4667, -0.4510, -0.4510],\n",
       "          [-0.4588, -0.4667, -0.4431,  ..., -0.4824, -0.4667, -0.5137]],\n",
       "\n",
       "         [[-0.5529, -0.5922, -0.5686,  ..., -0.6549, -0.6784, -0.6549],\n",
       "          [-0.5843, -0.6235, -0.6078,  ..., -0.6863, -0.6706, -0.6471],\n",
       "          [-0.5922, -0.5765, -0.5608,  ..., -0.6392, -0.6157, -0.6157],\n",
       "          ...,\n",
       "          [-0.5451, -0.6078, -0.5765,  ..., -0.5529, -0.5843, -0.6392],\n",
       "          [-0.5686, -0.6157, -0.6314,  ..., -0.5843, -0.5922, -0.5922],\n",
       "          [-0.6078, -0.6078, -0.5765,  ..., -0.6000, -0.6078, -0.6549]]]]), 'labels': 225}"
      ]
     },
     "execution_count": 7,
     "metadata": {},
     "output_type": "execute_result"
    }
   ],
   "source": [
    "process_example(dataset['train'][0])"
   ]
  },
  {
   "cell_type": "code",
   "execution_count": 8,
   "metadata": {},
   "outputs": [],
   "source": [
    "def transform(example_batch):\n",
    "    # Take a list of PIL images and turn them to pixel values\n",
    "    inputs = processor([x for x in example_batch['image']], return_tensors='pt')\n",
    "\n",
    "    # Don't forget to include the labels!\n",
    "    inputs['labels'] = example_batch['labels']\n",
    "    return inputs"
   ]
  },
  {
   "cell_type": "code",
   "execution_count": 9,
   "metadata": {},
   "outputs": [],
   "source": [
    "prepared_ds = dataset.with_transform(transform)"
   ]
  },
  {
   "cell_type": "code",
   "execution_count": 10,
   "metadata": {},
   "outputs": [
    {
     "data": {
      "text/plain": [
       "torch.Size([3, 224, 224])"
      ]
     },
     "execution_count": 10,
     "metadata": {},
     "output_type": "execute_result"
    }
   ],
   "source": [
    "prepared_ds['train'][0]['pixel_values'].shape"
   ]
  },
  {
   "cell_type": "code",
   "execution_count": 11,
   "metadata": {},
   "outputs": [],
   "source": [
    "def collate_fn(batch):\n",
    "    return {\n",
    "        'pixel_values': torch.stack([x['pixel_values'] for x in batch]),\n",
    "        'labels': torch.tensor([x['labels'] for x in batch])\n",
    "    }"
   ]
  },
  {
   "cell_type": "code",
   "execution_count": 12,
   "metadata": {},
   "outputs": [
    {
     "name": "stderr",
     "output_type": "stream",
     "text": [
      "C:\\Users\\Aniket Konkar\\AppData\\Local\\Temp\\ipykernel_2344\\2425197347.py:4: FutureWarning: load_metric is deprecated and will be removed in the next major version of datasets. Use 'evaluate.load' instead, from the new library 🤗 Evaluate: https://huggingface.co/docs/evaluate\n",
      "  metric = load_metric(\"accuracy\")\n",
      "c:\\Users\\Aniket Konkar\\AppData\\Local\\Programs\\Python\\Python312\\Lib\\site-packages\\datasets\\load.py:756: FutureWarning: The repository for accuracy contains custom code which must be executed to correctly load the metric. You can inspect the repository content at https://raw.githubusercontent.com/huggingface/datasets/2.18.0/metrics/accuracy/accuracy.py\n",
      "You can avoid this message in future by passing the argument `trust_remote_code=True`.\n",
      "Passing `trust_remote_code=True` will be mandatory to load this metric from the next major release of `datasets`.\n",
      "  warnings.warn(\n"
     ]
    }
   ],
   "source": [
    "import numpy as np\n",
    "from datasets import load_metric\n",
    "\n",
    "metric = load_metric(\"accuracy\")\n",
    "def compute_metrics(p):\n",
    "    return metric.compute(predictions=np.argmax(p.predictions, axis=1), references=p.label_ids)"
   ]
  },
  {
   "cell_type": "code",
   "execution_count": 13,
   "metadata": {},
   "outputs": [
    {
     "name": "stderr",
     "output_type": "stream",
     "text": [
      "Some weights of ViTForImageClassification were not initialized from the model checkpoint at google/vit-base-patch16-224-in21k and are newly initialized: ['classifier.bias', 'classifier.weight']\n",
      "You should probably TRAIN this model on a down-stream task to be able to use it for predictions and inference.\n"
     ]
    }
   ],
   "source": [
    "from transformers import ViTForImageClassification\n",
    "\n",
    "model = ViTForImageClassification.from_pretrained(\n",
    "    model_name_or_path,\n",
    "    device_map=\"auto\",\n",
    "    num_labels=len(id2label),\n",
    "    id2label=id2label,\n",
    "    label2id=label2id\n",
    ")"
   ]
  },
  {
   "cell_type": "code",
   "execution_count": 14,
   "metadata": {},
   "outputs": [],
   "source": [
    "from transformers import TrainingArguments\n",
    "\n",
    "training_args = TrainingArguments(\n",
    "  output_dir=\"./vit-base-beans\",\n",
    "  per_device_train_batch_size=16,\n",
    "  evaluation_strategy=\"steps\",\n",
    "  num_train_epochs=21,\n",
    "  fp16=True,\n",
    "  save_steps=100,\n",
    "  eval_steps=100,\n",
    "  logging_steps=40,\n",
    "  learning_rate=0.002,\n",
    "  save_total_limit=2,\n",
    "  remove_unused_columns=False,\n",
    "  push_to_hub=False,\n",
    "  report_to='wandb',\n",
    "  load_best_model_at_end=True,\n",
    ")"
   ]
  },
  {
   "cell_type": "code",
   "execution_count": 15,
   "metadata": {},
   "outputs": [],
   "source": [
    "from transformers import Trainer\n",
    "\n",
    "trainer = Trainer(\n",
    "    model=model,\n",
    "    args=training_args,\n",
    "    data_collator=collate_fn,\n",
    "    compute_metrics=compute_metrics,\n",
    "    train_dataset=prepared_ds[\"train\"],\n",
    "    eval_dataset=prepared_ds[\"test\"], # its validation dataset\n",
    "    tokenizer=processor,\n",
    ")"
   ]
  },
  {
   "cell_type": "markdown",
   "metadata": {},
   "source": [
    "The below code snippet is where the actual model training happens. I have trained multiple times to try and get the best validation accuracy and make sure my model doesn't overfit. I came to the conclusion that training for 21 epochs for this usecase and configurations seems to work the best."
   ]
  },
  {
   "cell_type": "code",
   "execution_count": 16,
   "metadata": {},
   "outputs": [
    {
     "name": "stderr",
     "output_type": "stream",
     "text": [
      "Failed to detect the name of this notebook, you can set it manually with the WANDB_NOTEBOOK_NAME environment variable to enable code saving.\n",
      "\u001b[34m\u001b[1mwandb\u001b[0m: Currently logged in as: \u001b[33minspiration601\u001b[0m (\u001b[33maniketkonkar\u001b[0m). Use \u001b[1m`wandb login --relogin`\u001b[0m to force relogin\n"
     ]
    },
    {
     "data": {
      "text/html": [
       "Tracking run with wandb version 0.16.6"
      ],
      "text/plain": [
       "<IPython.core.display.HTML object>"
      ]
     },
     "metadata": {},
     "output_type": "display_data"
    },
    {
     "data": {
      "text/html": [
       "Run data is saved locally in <code>c:\\Users\\Aniket Konkar\\Desktop\\RightWhaleRecognition\\wandb\\run-20240427_111552-ml5mgh0z</code>"
      ],
      "text/plain": [
       "<IPython.core.display.HTML object>"
      ]
     },
     "metadata": {},
     "output_type": "display_data"
    },
    {
     "data": {
      "text/html": [
       "Syncing run <strong><a href='https://wandb.ai/aniketkonkar/huggingface/runs/ml5mgh0z' target=\"_blank\">faithful-cloud-7</a></strong> to <a href='https://wandb.ai/aniketkonkar/huggingface' target=\"_blank\">Weights & Biases</a> (<a href='https://wandb.me/run' target=\"_blank\">docs</a>)<br/>"
      ],
      "text/plain": [
       "<IPython.core.display.HTML object>"
      ]
     },
     "metadata": {},
     "output_type": "display_data"
    },
    {
     "data": {
      "text/html": [
       " View project at <a href='https://wandb.ai/aniketkonkar/huggingface' target=\"_blank\">https://wandb.ai/aniketkonkar/huggingface</a>"
      ],
      "text/plain": [
       "<IPython.core.display.HTML object>"
      ]
     },
     "metadata": {},
     "output_type": "display_data"
    },
    {
     "data": {
      "text/html": [
       " View run at <a href='https://wandb.ai/aniketkonkar/huggingface/runs/ml5mgh0z' target=\"_blank\">https://wandb.ai/aniketkonkar/huggingface/runs/ml5mgh0z</a>"
      ],
      "text/plain": [
       "<IPython.core.display.HTML object>"
      ]
     },
     "metadata": {},
     "output_type": "display_data"
    },
    {
     "name": "stderr",
     "output_type": "stream",
     "text": [
      "  1%|          | 41/5376 [00:12<14:53,  5.97it/s] "
     ]
    },
    {
     "name": "stdout",
     "output_type": "stream",
     "text": [
      "{'loss': 6.1129, 'grad_norm': 0.7761141657829285, 'learning_rate': 0.0019851190476190476, 'epoch': 0.16}\n"
     ]
    },
    {
     "name": "stderr",
     "output_type": "stream",
     "text": [
      "  2%|▏         | 81/5376 [00:19<15:01,  5.87it/s]"
     ]
    },
    {
     "name": "stdout",
     "output_type": "stream",
     "text": [
      "{'loss': 6.0562, 'grad_norm': 0.6475346684455872, 'learning_rate': 0.001970238095238095, 'epoch': 0.31}\n"
     ]
    },
    {
     "name": "stderr",
     "output_type": "stream",
     "text": [
      "                                                  \n",
      "  2%|▏         | 100/5376 [00:25<14:53,  5.91it/s]"
     ]
    },
    {
     "name": "stdout",
     "output_type": "stream",
     "text": [
      "{'eval_loss': 6.003090858459473, 'eval_accuracy': 0.006593406593406593, 'eval_runtime': 2.6405, 'eval_samples_per_second': 172.314, 'eval_steps_per_second': 21.587, 'epoch': 0.39}\n"
     ]
    },
    {
     "name": "stderr",
     "output_type": "stream",
     "text": [
      "  2%|▏         | 121/5376 [00:30<15:05,  5.81it/s]  "
     ]
    },
    {
     "name": "stdout",
     "output_type": "stream",
     "text": [
      "{'loss': 6.021, 'grad_norm': 0.640256404876709, 'learning_rate': 0.001955357142857143, 'epoch': 0.47}\n"
     ]
    },
    {
     "name": "stderr",
     "output_type": "stream",
     "text": [
      "  3%|▎         | 161/5376 [00:36<15:56,  5.45it/s]"
     ]
    },
    {
     "name": "stdout",
     "output_type": "stream",
     "text": [
      "{'loss': 6.0154, 'grad_norm': 0.557342529296875, 'learning_rate': 0.0019404761904761906, 'epoch': 0.62}\n"
     ]
    },
    {
     "name": "stderr",
     "output_type": "stream",
     "text": [
      "  4%|▎         | 200/5376 [00:44<16:41,  5.17it/s]"
     ]
    },
    {
     "name": "stdout",
     "output_type": "stream",
     "text": [
      "{'loss': 6.0237, 'grad_norm': 0.6171022653579712, 'learning_rate': 0.0019255952380952382, 'epoch': 0.78}\n"
     ]
    },
    {
     "name": "stderr",
     "output_type": "stream",
     "text": [
      "                                                  \n",
      "  4%|▎         | 200/5376 [00:47<16:41,  5.17it/s]"
     ]
    },
    {
     "name": "stdout",
     "output_type": "stream",
     "text": [
      "{'eval_loss': 5.977635860443115, 'eval_accuracy': 0.006593406593406593, 'eval_runtime': 3.0047, 'eval_samples_per_second': 151.431, 'eval_steps_per_second': 18.97, 'epoch': 0.78}\n"
     ]
    },
    {
     "name": "stderr",
     "output_type": "stream",
     "text": [
      "  4%|▍         | 241/5376 [00:57<15:58,  5.36it/s]  "
     ]
    },
    {
     "name": "stdout",
     "output_type": "stream",
     "text": [
      "{'loss': 6.0253, 'grad_norm': 0.5911360383033752, 'learning_rate': 0.0019107142857142858, 'epoch': 0.94}\n"
     ]
    },
    {
     "name": "stderr",
     "output_type": "stream",
     "text": [
      "  5%|▍         | 255/5376 [01:00<15:09,  5.63it/s]c:\\Users\\Aniket Konkar\\AppData\\Local\\Programs\\Python\\Python312\\Lib\\site-packages\\torch\\autograd\\graph.py:744: UserWarning: Plan failed with a cudnnException: CUDNN_BACKEND_EXECUTION_PLAN_DESCRIPTOR: cudnnFinalize Descriptor Failed cudnn_status: CUDNN_STATUS_NOT_SUPPORTED (Triggered internally at ..\\aten\\src\\ATen\\native\\cudnn\\Conv_v8.cpp:919.)\n",
      "  return Variable._execution_engine.run_backward(  # Calls into the C++ engine to run the backward pass\n",
      "  5%|▌         | 281/5376 [01:05<15:44,  5.40it/s]"
     ]
    },
    {
     "name": "stdout",
     "output_type": "stream",
     "text": [
      "{'loss': 5.9506, 'grad_norm': 0.6040953993797302, 'learning_rate': 0.0018958333333333334, 'epoch': 1.09}\n"
     ]
    },
    {
     "name": "stderr",
     "output_type": "stream",
     "text": [
      "                                                  \n",
      "  6%|▌         | 300/5376 [01:11<15:47,  5.36it/s]"
     ]
    },
    {
     "name": "stdout",
     "output_type": "stream",
     "text": [
      "{'eval_loss': 5.969857692718506, 'eval_accuracy': 0.013186813186813187, 'eval_runtime': 3.0377, 'eval_samples_per_second': 149.785, 'eval_steps_per_second': 18.764, 'epoch': 1.17}\n"
     ]
    },
    {
     "name": "stderr",
     "output_type": "stream",
     "text": [
      "  6%|▌         | 321/5376 [01:17<15:33,  5.41it/s]  "
     ]
    },
    {
     "name": "stdout",
     "output_type": "stream",
     "text": [
      "{'loss': 5.8714, 'grad_norm': 0.521041989326477, 'learning_rate': 0.001880952380952381, 'epoch': 1.25}\n"
     ]
    },
    {
     "name": "stderr",
     "output_type": "stream",
     "text": [
      "  7%|▋         | 361/5376 [01:24<15:16,  5.47it/s]"
     ]
    },
    {
     "name": "stdout",
     "output_type": "stream",
     "text": [
      "{'loss': 5.8913, 'grad_norm': 0.5928844809532166, 'learning_rate': 0.0018660714285714287, 'epoch': 1.41}\n"
     ]
    },
    {
     "name": "stderr",
     "output_type": "stream",
     "text": [
      "  7%|▋         | 400/5376 [01:31<15:08,  5.48it/s]"
     ]
    },
    {
     "name": "stdout",
     "output_type": "stream",
     "text": [
      "{'loss': 5.911, 'grad_norm': 0.7080428600311279, 'learning_rate': 0.0018511904761904763, 'epoch': 1.56}\n"
     ]
    },
    {
     "name": "stderr",
     "output_type": "stream",
     "text": [
      "                                                  \n",
      "  7%|▋         | 400/5376 [01:34<15:08,  5.48it/s]"
     ]
    },
    {
     "name": "stdout",
     "output_type": "stream",
     "text": [
      "{'eval_loss': 5.9261932373046875, 'eval_accuracy': 0.008791208791208791, 'eval_runtime': 2.8227, 'eval_samples_per_second': 161.195, 'eval_steps_per_second': 20.194, 'epoch': 1.56}\n"
     ]
    },
    {
     "name": "stderr",
     "output_type": "stream",
     "text": [
      "  8%|▊         | 441/5376 [01:43<14:58,  5.49it/s]  "
     ]
    },
    {
     "name": "stdout",
     "output_type": "stream",
     "text": [
      "{'loss': 5.9063, 'grad_norm': 0.7343950271606445, 'learning_rate': 0.0018363095238095237, 'epoch': 1.72}\n"
     ]
    },
    {
     "name": "stderr",
     "output_type": "stream",
     "text": [
      "  9%|▉         | 481/5376 [01:50<14:53,  5.48it/s]"
     ]
    },
    {
     "name": "stdout",
     "output_type": "stream",
     "text": [
      "{'loss': 5.9771, 'grad_norm': 0.5003652572631836, 'learning_rate': 0.0018214285714285715, 'epoch': 1.88}\n"
     ]
    },
    {
     "name": "stderr",
     "output_type": "stream",
     "text": [
      "                                                  \n",
      "  9%|▉         | 500/5376 [01:56<14:47,  5.49it/s]"
     ]
    },
    {
     "name": "stdout",
     "output_type": "stream",
     "text": [
      "{'eval_loss': 5.947407245635986, 'eval_accuracy': 0.006593406593406593, 'eval_runtime': 2.8166, 'eval_samples_per_second': 161.541, 'eval_steps_per_second': 20.237, 'epoch': 1.95}\n"
     ]
    },
    {
     "name": "stderr",
     "output_type": "stream",
     "text": [
      " 10%|▉         | 521/5376 [02:01<14:53,  5.43it/s]  "
     ]
    },
    {
     "name": "stdout",
     "output_type": "stream",
     "text": [
      "{'loss': 5.9057, 'grad_norm': 0.7208355069160461, 'learning_rate': 0.001806547619047619, 'epoch': 2.03}\n"
     ]
    },
    {
     "name": "stderr",
     "output_type": "stream",
     "text": [
      " 10%|█         | 561/5376 [02:09<14:48,  5.42it/s]"
     ]
    },
    {
     "name": "stdout",
     "output_type": "stream",
     "text": [
      "{'loss': 5.8416, 'grad_norm': 0.5956791043281555, 'learning_rate': 0.0017924107142857143, 'epoch': 2.19}\n"
     ]
    },
    {
     "name": "stderr",
     "output_type": "stream",
     "text": [
      " 11%|█         | 600/5376 [02:16<14:34,  5.46it/s]"
     ]
    },
    {
     "name": "stdout",
     "output_type": "stream",
     "text": [
      "{'loss': 5.8534, 'grad_norm': 0.8321338891983032, 'learning_rate': 0.0017775297619047619, 'epoch': 2.34}\n"
     ]
    },
    {
     "name": "stderr",
     "output_type": "stream",
     "text": [
      "                                                  \n",
      " 11%|█         | 600/5376 [02:19<14:34,  5.46it/s]"
     ]
    },
    {
     "name": "stdout",
     "output_type": "stream",
     "text": [
      "{'eval_loss': 5.909834384918213, 'eval_accuracy': 0.013186813186813187, 'eval_runtime': 2.8526, 'eval_samples_per_second': 159.501, 'eval_steps_per_second': 19.982, 'epoch': 2.34}\n"
     ]
    },
    {
     "name": "stderr",
     "output_type": "stream",
     "text": [
      " 12%|█▏        | 641/5376 [02:28<14:32,  5.42it/s]  "
     ]
    },
    {
     "name": "stdout",
     "output_type": "stream",
     "text": [
      "{'loss': 5.8512, 'grad_norm': 0.9707726836204529, 'learning_rate': 0.0017626488095238097, 'epoch': 2.5}\n"
     ]
    },
    {
     "name": "stderr",
     "output_type": "stream",
     "text": [
      " 13%|█▎        | 681/5376 [02:35<14:24,  5.43it/s]"
     ]
    },
    {
     "name": "stdout",
     "output_type": "stream",
     "text": [
      "{'loss': 5.8858, 'grad_norm': 0.5705589056015015, 'learning_rate': 0.0017477678571428572, 'epoch': 2.66}\n"
     ]
    },
    {
     "name": "stderr",
     "output_type": "stream",
     "text": [
      "                                                  \n",
      " 13%|█▎        | 700/5376 [02:41<14:18,  5.45it/s]"
     ]
    },
    {
     "name": "stdout",
     "output_type": "stream",
     "text": [
      "{'eval_loss': 5.9489617347717285, 'eval_accuracy': 0.017582417582417582, 'eval_runtime': 2.8646, 'eval_samples_per_second': 158.833, 'eval_steps_per_second': 19.898, 'epoch': 2.73}\n"
     ]
    },
    {
     "name": "stderr",
     "output_type": "stream",
     "text": [
      " 13%|█▎        | 721/5376 [02:46<14:28,  5.36it/s]  "
     ]
    },
    {
     "name": "stdout",
     "output_type": "stream",
     "text": [
      "{'loss': 5.918, 'grad_norm': 0.9415035247802734, 'learning_rate': 0.0017332589285714286, 'epoch': 2.81}\n"
     ]
    },
    {
     "name": "stderr",
     "output_type": "stream",
     "text": [
      " 14%|█▍        | 761/5376 [02:54<14:10,  5.43it/s]"
     ]
    },
    {
     "name": "stdout",
     "output_type": "stream",
     "text": [
      "{'loss': 5.8888, 'grad_norm': 0.729317843914032, 'learning_rate': 0.0017183779761904762, 'epoch': 2.97}\n"
     ]
    },
    {
     "name": "stderr",
     "output_type": "stream",
     "text": [
      " 15%|█▍        | 800/5376 [03:01<13:51,  5.50it/s]"
     ]
    },
    {
     "name": "stdout",
     "output_type": "stream",
     "text": [
      "{'loss': 5.8136, 'grad_norm': 0.7058677673339844, 'learning_rate': 0.0017034970238095238, 'epoch': 3.12}\n"
     ]
    },
    {
     "name": "stderr",
     "output_type": "stream",
     "text": [
      "                                                  \n",
      " 15%|█▍        | 800/5376 [03:04<13:51,  5.50it/s]"
     ]
    },
    {
     "name": "stdout",
     "output_type": "stream",
     "text": [
      "{'eval_loss': 5.97991943359375, 'eval_accuracy': 0.015384615384615385, 'eval_runtime': 2.8466, 'eval_samples_per_second': 159.838, 'eval_steps_per_second': 20.024, 'epoch': 3.12}\n"
     ]
    },
    {
     "name": "stderr",
     "output_type": "stream",
     "text": [
      " 16%|█▌        | 841/5376 [03:12<13:50,  5.46it/s]  "
     ]
    },
    {
     "name": "stdout",
     "output_type": "stream",
     "text": [
      "{'loss': 5.83, 'grad_norm': 0.6759810447692871, 'learning_rate': 0.0016886160714285714, 'epoch': 3.28}\n"
     ]
    },
    {
     "name": "stderr",
     "output_type": "stream",
     "text": [
      " 16%|█▋        | 881/5376 [03:20<13:32,  5.53it/s]"
     ]
    },
    {
     "name": "stdout",
     "output_type": "stream",
     "text": [
      "{'loss': 5.8391, 'grad_norm': 0.741689145565033, 'learning_rate': 0.0016737351190476192, 'epoch': 3.44}\n"
     ]
    },
    {
     "name": "stderr",
     "output_type": "stream",
     "text": [
      "                                                  \n",
      " 17%|█▋        | 900/5376 [03:26<13:25,  5.55it/s]"
     ]
    },
    {
     "name": "stdout",
     "output_type": "stream",
     "text": [
      "{'eval_loss': 5.948652744293213, 'eval_accuracy': 0.006593406593406593, 'eval_runtime': 2.7616, 'eval_samples_per_second': 164.758, 'eval_steps_per_second': 20.64, 'epoch': 3.52}\n"
     ]
    },
    {
     "name": "stderr",
     "output_type": "stream",
     "text": [
      " 17%|█▋        | 921/5376 [03:31<13:35,  5.47it/s]  "
     ]
    },
    {
     "name": "stdout",
     "output_type": "stream",
     "text": [
      "{'loss': 5.8334, 'grad_norm': 0.7541036605834961, 'learning_rate': 0.0016588541666666668, 'epoch': 3.59}\n"
     ]
    },
    {
     "name": "stderr",
     "output_type": "stream",
     "text": [
      " 18%|█▊        | 961/5376 [03:38<13:22,  5.50it/s]"
     ]
    },
    {
     "name": "stdout",
     "output_type": "stream",
     "text": [
      "{'loss': 5.8949, 'grad_norm': 0.6042342185974121, 'learning_rate': 0.0016439732142857141, 'epoch': 3.75}\n"
     ]
    },
    {
     "name": "stderr",
     "output_type": "stream",
     "text": [
      " 19%|█▊        | 1000/5376 [03:45<13:12,  5.53it/s]"
     ]
    },
    {
     "name": "stdout",
     "output_type": "stream",
     "text": [
      "{'loss': 5.8625, 'grad_norm': 0.9110388159751892, 'learning_rate': 0.001629092261904762, 'epoch': 3.91}\n"
     ]
    },
    {
     "name": "stderr",
     "output_type": "stream",
     "text": [
      "                                                   \n",
      " 19%|█▊        | 1000/5376 [03:48<13:12,  5.53it/s]"
     ]
    },
    {
     "name": "stdout",
     "output_type": "stream",
     "text": [
      "{'eval_loss': 5.919471740722656, 'eval_accuracy': 0.004395604395604396, 'eval_runtime': 2.8266, 'eval_samples_per_second': 160.969, 'eval_steps_per_second': 20.165, 'epoch': 3.91}\n"
     ]
    },
    {
     "name": "stderr",
     "output_type": "stream",
     "text": [
      " 19%|█▉        | 1041/5376 [03:57<13:08,  5.50it/s]  "
     ]
    },
    {
     "name": "stdout",
     "output_type": "stream",
     "text": [
      "{'loss': 5.8682, 'grad_norm': 0.6943430304527283, 'learning_rate': 0.0016142113095238095, 'epoch': 4.06}\n"
     ]
    },
    {
     "name": "stderr",
     "output_type": "stream",
     "text": [
      " 20%|██        | 1081/5376 [04:04<12:59,  5.51it/s]"
     ]
    },
    {
     "name": "stdout",
     "output_type": "stream",
     "text": [
      "{'loss': 5.8014, 'grad_norm': 0.705177903175354, 'learning_rate': 0.0015993303571428573, 'epoch': 4.22}\n"
     ]
    },
    {
     "name": "stderr",
     "output_type": "stream",
     "text": [
      "                                                   \n",
      " 20%|██        | 1100/5376 [04:10<12:51,  5.54it/s]"
     ]
    },
    {
     "name": "stdout",
     "output_type": "stream",
     "text": [
      "{'eval_loss': 5.976626396179199, 'eval_accuracy': 0.006593406593406593, 'eval_runtime': 2.8276, 'eval_samples_per_second': 160.912, 'eval_steps_per_second': 20.158, 'epoch': 4.3}\n"
     ]
    },
    {
     "name": "stderr",
     "output_type": "stream",
     "text": [
      " 21%|██        | 1121/5376 [04:16<12:57,  5.47it/s]  "
     ]
    },
    {
     "name": "stdout",
     "output_type": "stream",
     "text": [
      "{'loss': 5.819, 'grad_norm': 0.8068768978118896, 'learning_rate': 0.0015844494047619047, 'epoch': 4.38}\n"
     ]
    },
    {
     "name": "stderr",
     "output_type": "stream",
     "text": [
      " 22%|██▏       | 1161/5376 [04:23<12:44,  5.51it/s]"
     ]
    },
    {
     "name": "stdout",
     "output_type": "stream",
     "text": [
      "{'loss': 5.8551, 'grad_norm': 0.5673507452011108, 'learning_rate': 0.0015695684523809523, 'epoch': 4.53}\n"
     ]
    },
    {
     "name": "stderr",
     "output_type": "stream",
     "text": [
      " 22%|██▏       | 1200/5376 [04:30<12:37,  5.51it/s]"
     ]
    },
    {
     "name": "stdout",
     "output_type": "stream",
     "text": [
      "{'loss': 5.8338, 'grad_norm': 0.8630104660987854, 'learning_rate': 0.0015546875, 'epoch': 4.69}\n"
     ]
    },
    {
     "name": "stderr",
     "output_type": "stream",
     "text": [
      "                                                   \n",
      " 22%|██▏       | 1200/5376 [04:33<12:37,  5.51it/s]"
     ]
    },
    {
     "name": "stdout",
     "output_type": "stream",
     "text": [
      "{'eval_loss': 5.921492576599121, 'eval_accuracy': 0.013186813186813187, 'eval_runtime': 2.8026, 'eval_samples_per_second': 162.348, 'eval_steps_per_second': 20.338, 'epoch': 4.69}\n"
     ]
    },
    {
     "name": "stderr",
     "output_type": "stream",
     "text": [
      " 23%|██▎       | 1241/5376 [04:41<12:36,  5.47it/s]  "
     ]
    },
    {
     "name": "stdout",
     "output_type": "stream",
     "text": [
      "{'loss': 5.8541, 'grad_norm': 0.7928052544593811, 'learning_rate': 0.0015398065476190477, 'epoch': 4.84}\n"
     ]
    },
    {
     "name": "stderr",
     "output_type": "stream",
     "text": [
      " 24%|██▍       | 1280/5376 [04:48<11:52,  5.75it/s]"
     ]
    },
    {
     "name": "stdout",
     "output_type": "stream",
     "text": [
      "{'loss': 5.8075, 'grad_norm': 1.0068917274475098, 'learning_rate': 0.0015249255952380955, 'epoch': 5.0}\n"
     ]
    },
    {
     "name": "stderr",
     "output_type": "stream",
     "text": [
      "                                                   \n",
      " 24%|██▍       | 1300/5376 [04:55<12:15,  5.54it/s]"
     ]
    },
    {
     "name": "stdout",
     "output_type": "stream",
     "text": [
      "{'eval_loss': 5.8896894454956055, 'eval_accuracy': 0.015384615384615385, 'eval_runtime': 2.7876, 'eval_samples_per_second': 163.221, 'eval_steps_per_second': 20.448, 'epoch': 5.08}\n"
     ]
    },
    {
     "name": "stderr",
     "output_type": "stream",
     "text": [
      " 25%|██▍       | 1321/5376 [05:00<12:21,  5.47it/s]  "
     ]
    },
    {
     "name": "stdout",
     "output_type": "stream",
     "text": [
      "{'loss': 5.7775, 'grad_norm': 0.8904678225517273, 'learning_rate': 0.0015100446428571428, 'epoch': 5.16}\n"
     ]
    },
    {
     "name": "stderr",
     "output_type": "stream",
     "text": [
      " 25%|██▌       | 1361/5376 [05:07<12:11,  5.49it/s]"
     ]
    },
    {
     "name": "stdout",
     "output_type": "stream",
     "text": [
      "{'loss': 5.8008, 'grad_norm': 0.7887709140777588, 'learning_rate': 0.0014951636904761904, 'epoch': 5.31}\n"
     ]
    },
    {
     "name": "stderr",
     "output_type": "stream",
     "text": [
      " 26%|██▌       | 1400/5376 [05:14<12:01,  5.51it/s]"
     ]
    },
    {
     "name": "stdout",
     "output_type": "stream",
     "text": [
      "{'loss': 5.7717, 'grad_norm': 6.900592803955078, 'learning_rate': 0.0014802827380952382, 'epoch': 5.47}\n"
     ]
    },
    {
     "name": "stderr",
     "output_type": "stream",
     "text": [
      "                                                   \n",
      " 26%|██▌       | 1400/5376 [05:17<12:01,  5.51it/s]"
     ]
    },
    {
     "name": "stdout",
     "output_type": "stream",
     "text": [
      "{'eval_loss': 5.949433326721191, 'eval_accuracy': 0.006593406593406593, 'eval_runtime': 2.8466, 'eval_samples_per_second': 159.838, 'eval_steps_per_second': 20.024, 'epoch': 5.47}\n"
     ]
    },
    {
     "name": "stderr",
     "output_type": "stream",
     "text": [
      " 27%|██▋       | 1441/5376 [05:26<11:51,  5.53it/s]  "
     ]
    },
    {
     "name": "stdout",
     "output_type": "stream",
     "text": [
      "{'loss': 5.8656, 'grad_norm': 0.6508156657218933, 'learning_rate': 0.0014654017857142858, 'epoch': 5.62}\n"
     ]
    },
    {
     "name": "stderr",
     "output_type": "stream",
     "text": [
      " 28%|██▊       | 1481/5376 [05:33<11:45,  5.52it/s]"
     ]
    },
    {
     "name": "stdout",
     "output_type": "stream",
     "text": [
      "{'loss': 5.8054, 'grad_norm': 1.020127773284912, 'learning_rate': 0.0014505208333333334, 'epoch': 5.78}\n"
     ]
    },
    {
     "name": "stderr",
     "output_type": "stream",
     "text": [
      "                                                   \n",
      " 28%|██▊       | 1500/5376 [05:39<11:38,  5.55it/s]"
     ]
    },
    {
     "name": "stdout",
     "output_type": "stream",
     "text": [
      "{'eval_loss': 5.912539005279541, 'eval_accuracy': 0.01098901098901099, 'eval_runtime': 2.8046, 'eval_samples_per_second': 162.232, 'eval_steps_per_second': 20.324, 'epoch': 5.86}\n"
     ]
    },
    {
     "name": "stderr",
     "output_type": "stream",
     "text": [
      " 28%|██▊       | 1521/5376 [05:44<11:44,  5.47it/s]  "
     ]
    },
    {
     "name": "stdout",
     "output_type": "stream",
     "text": [
      "{'loss': 5.81, 'grad_norm': 0.710900604724884, 'learning_rate': 0.001435639880952381, 'epoch': 5.94}\n"
     ]
    },
    {
     "name": "stderr",
     "output_type": "stream",
     "text": [
      " 29%|██▉       | 1561/5376 [05:52<11:28,  5.54it/s]"
     ]
    },
    {
     "name": "stdout",
     "output_type": "stream",
     "text": [
      "{'loss': 5.7922, 'grad_norm': 0.6819416284561157, 'learning_rate': 0.0014207589285714286, 'epoch': 6.09}\n"
     ]
    },
    {
     "name": "stderr",
     "output_type": "stream",
     "text": [
      " 30%|██▉       | 1600/5376 [05:59<11:20,  5.55it/s]"
     ]
    },
    {
     "name": "stdout",
     "output_type": "stream",
     "text": [
      "{'loss': 5.7786, 'grad_norm': 0.768370509147644, 'learning_rate': 0.0014058779761904764, 'epoch': 6.25}\n"
     ]
    },
    {
     "name": "stderr",
     "output_type": "stream",
     "text": [
      "                                                   \n",
      " 30%|██▉       | 1600/5376 [06:02<11:20,  5.55it/s]"
     ]
    },
    {
     "name": "stdout",
     "output_type": "stream",
     "text": [
      "{'eval_loss': 5.897093772888184, 'eval_accuracy': 0.004395604395604396, 'eval_runtime': 2.8096, 'eval_samples_per_second': 161.943, 'eval_steps_per_second': 20.287, 'epoch': 6.25}\n"
     ]
    },
    {
     "name": "stderr",
     "output_type": "stream",
     "text": [
      " 31%|███       | 1641/5376 [06:10<11:19,  5.50it/s]  "
     ]
    },
    {
     "name": "stdout",
     "output_type": "stream",
     "text": [
      "{'loss': 5.7954, 'grad_norm': 1.042335867881775, 'learning_rate': 0.0013909970238095237, 'epoch': 6.41}\n"
     ]
    },
    {
     "name": "stderr",
     "output_type": "stream",
     "text": [
      " 31%|███▏      | 1681/5376 [06:18<11:14,  5.48it/s]"
     ]
    },
    {
     "name": "stdout",
     "output_type": "stream",
     "text": [
      "{'loss': 5.7591, 'grad_norm': 1.259655475616455, 'learning_rate': 0.0013761160714285713, 'epoch': 6.56}\n"
     ]
    },
    {
     "name": "stderr",
     "output_type": "stream",
     "text": [
      "                                                   \n",
      " 32%|███▏      | 1700/5376 [06:24<11:11,  5.48it/s]"
     ]
    },
    {
     "name": "stdout",
     "output_type": "stream",
     "text": [
      "{'eval_loss': 5.908353328704834, 'eval_accuracy': 0.008791208791208791, 'eval_runtime': 2.8346, 'eval_samples_per_second': 160.515, 'eval_steps_per_second': 20.108, 'epoch': 6.64}\n"
     ]
    },
    {
     "name": "stderr",
     "output_type": "stream",
     "text": [
      " 32%|███▏      | 1721/5376 [06:29<11:09,  5.46it/s]  "
     ]
    },
    {
     "name": "stdout",
     "output_type": "stream",
     "text": [
      "{'loss': 5.8295, 'grad_norm': 0.8183178305625916, 'learning_rate': 0.0013612351190476191, 'epoch': 6.72}\n"
     ]
    },
    {
     "name": "stderr",
     "output_type": "stream",
     "text": [
      " 33%|███▎      | 1761/5376 [06:36<10:54,  5.52it/s]"
     ]
    },
    {
     "name": "stdout",
     "output_type": "stream",
     "text": [
      "{'loss': 5.8036, 'grad_norm': 0.997681200504303, 'learning_rate': 0.0013463541666666667, 'epoch': 6.88}\n"
     ]
    },
    {
     "name": "stderr",
     "output_type": "stream",
     "text": [
      " 33%|███▎      | 1800/5376 [06:43<10:40,  5.58it/s]"
     ]
    },
    {
     "name": "stdout",
     "output_type": "stream",
     "text": [
      "{'loss': 5.7888, 'grad_norm': 0.9349830150604248, 'learning_rate': 0.0013314732142857143, 'epoch': 7.03}\n"
     ]
    },
    {
     "name": "stderr",
     "output_type": "stream",
     "text": [
      "                                                   \n",
      " 33%|███▎      | 1800/5376 [06:46<10:40,  5.58it/s]"
     ]
    },
    {
     "name": "stdout",
     "output_type": "stream",
     "text": [
      "{'eval_loss': 5.940156936645508, 'eval_accuracy': 0.01098901098901099, 'eval_runtime': 2.8146, 'eval_samples_per_second': 161.655, 'eval_steps_per_second': 20.251, 'epoch': 7.03}\n"
     ]
    },
    {
     "name": "stderr",
     "output_type": "stream",
     "text": [
      " 34%|███▍      | 1841/5376 [06:55<10:37,  5.54it/s]  "
     ]
    },
    {
     "name": "stdout",
     "output_type": "stream",
     "text": [
      "{'loss': 5.7311, 'grad_norm': 0.7966522574424744, 'learning_rate': 0.0013165922619047619, 'epoch': 7.19}\n"
     ]
    },
    {
     "name": "stderr",
     "output_type": "stream",
     "text": [
      " 35%|███▍      | 1881/5376 [07:02<10:37,  5.48it/s]"
     ]
    },
    {
     "name": "stdout",
     "output_type": "stream",
     "text": [
      "{'loss': 5.7349, 'grad_norm': 0.6967107057571411, 'learning_rate': 0.0013017113095238095, 'epoch': 7.34}\n"
     ]
    },
    {
     "name": "stderr",
     "output_type": "stream",
     "text": [
      "                                                   \n",
      " 35%|███▌      | 1900/5376 [07:08<10:31,  5.50it/s]"
     ]
    },
    {
     "name": "stdout",
     "output_type": "stream",
     "text": [
      "{'eval_loss': 5.923086166381836, 'eval_accuracy': 0.013186813186813187, 'eval_runtime': 2.9147, 'eval_samples_per_second': 156.108, 'eval_steps_per_second': 19.556, 'epoch': 7.42}\n"
     ]
    },
    {
     "name": "stderr",
     "output_type": "stream",
     "text": [
      " 36%|███▌      | 1921/5376 [07:14<10:46,  5.35it/s]  "
     ]
    },
    {
     "name": "stdout",
     "output_type": "stream",
     "text": [
      "{'loss': 5.7573, 'grad_norm': 1.4721970558166504, 'learning_rate': 0.0012868303571428573, 'epoch': 7.5}\n"
     ]
    },
    {
     "name": "stderr",
     "output_type": "stream",
     "text": [
      " 36%|███▋      | 1961/5376 [07:21<10:44,  5.30it/s]"
     ]
    },
    {
     "name": "stdout",
     "output_type": "stream",
     "text": [
      "{'loss': 5.7918, 'grad_norm': 0.7932860851287842, 'learning_rate': 0.0012719494047619046, 'epoch': 7.66}\n"
     ]
    },
    {
     "name": "stderr",
     "output_type": "stream",
     "text": [
      " 37%|███▋      | 2000/5376 [07:29<10:39,  5.28it/s]"
     ]
    },
    {
     "name": "stdout",
     "output_type": "stream",
     "text": [
      "{'loss': 5.7573, 'grad_norm': 0.7833457589149475, 'learning_rate': 0.0012570684523809524, 'epoch': 7.81}\n"
     ]
    },
    {
     "name": "stderr",
     "output_type": "stream",
     "text": [
      "                                                   \n",
      " 37%|███▋      | 2000/5376 [07:32<10:39,  5.28it/s]"
     ]
    },
    {
     "name": "stdout",
     "output_type": "stream",
     "text": [
      "{'eval_loss': 5.948987007141113, 'eval_accuracy': 0.008791208791208791, 'eval_runtime': 3.1807, 'eval_samples_per_second': 143.05, 'eval_steps_per_second': 17.921, 'epoch': 7.81}\n"
     ]
    },
    {
     "name": "stderr",
     "output_type": "stream",
     "text": [
      " 38%|███▊      | 2041/5376 [07:41<10:23,  5.35it/s]  "
     ]
    },
    {
     "name": "stdout",
     "output_type": "stream",
     "text": [
      "{'loss': 5.8089, 'grad_norm': 0.8581262230873108, 'learning_rate': 0.0012421875, 'epoch': 7.97}\n"
     ]
    },
    {
     "name": "stderr",
     "output_type": "stream",
     "text": [
      " 39%|███▊      | 2081/5376 [07:49<10:25,  5.26it/s]"
     ]
    },
    {
     "name": "stdout",
     "output_type": "stream",
     "text": [
      "{'loss': 5.7265, 'grad_norm': 0.8443625569343567, 'learning_rate': 0.0012273065476190476, 'epoch': 8.12}\n"
     ]
    },
    {
     "name": "stderr",
     "output_type": "stream",
     "text": [
      "                                                   \n",
      " 39%|███▉      | 2100/5376 [07:55<10:28,  5.21it/s]"
     ]
    },
    {
     "name": "stdout",
     "output_type": "stream",
     "text": [
      "{'eval_loss': 5.985408782958984, 'eval_accuracy': 0.006593406593406593, 'eval_runtime': 3.1087, 'eval_samples_per_second': 146.364, 'eval_steps_per_second': 18.336, 'epoch': 8.2}\n"
     ]
    },
    {
     "name": "stderr",
     "output_type": "stream",
     "text": [
      " 39%|███▉      | 2121/5376 [08:01<10:05,  5.37it/s]  "
     ]
    },
    {
     "name": "stdout",
     "output_type": "stream",
     "text": [
      "{'loss': 5.7363, 'grad_norm': 0.7424725890159607, 'learning_rate': 0.0012124255952380954, 'epoch': 8.28}\n"
     ]
    },
    {
     "name": "stderr",
     "output_type": "stream",
     "text": [
      " 40%|████      | 2161/5376 [08:08<09:52,  5.42it/s]"
     ]
    },
    {
     "name": "stdout",
     "output_type": "stream",
     "text": [
      "{'loss': 5.7342, 'grad_norm': 0.767646312713623, 'learning_rate': 0.0011979166666666668, 'epoch': 8.44}\n"
     ]
    },
    {
     "name": "stderr",
     "output_type": "stream",
     "text": [
      " 41%|████      | 2200/5376 [08:15<09:46,  5.41it/s]"
     ]
    },
    {
     "name": "stdout",
     "output_type": "stream",
     "text": [
      "{'loss': 5.7274, 'grad_norm': 0.9481850266456604, 'learning_rate': 0.0011830357142857142, 'epoch': 8.59}\n"
     ]
    },
    {
     "name": "stderr",
     "output_type": "stream",
     "text": [
      "                                                   \n",
      " 41%|████      | 2200/5376 [08:18<09:46,  5.41it/s]"
     ]
    },
    {
     "name": "stdout",
     "output_type": "stream",
     "text": [
      "{'eval_loss': 5.947218418121338, 'eval_accuracy': 0.008791208791208791, 'eval_runtime': 2.8616, 'eval_samples_per_second': 159.0, 'eval_steps_per_second': 19.919, 'epoch': 8.59}\n"
     ]
    },
    {
     "name": "stderr",
     "output_type": "stream",
     "text": [
      " 42%|████▏     | 2241/5376 [08:27<09:25,  5.54it/s]  "
     ]
    },
    {
     "name": "stdout",
     "output_type": "stream",
     "text": [
      "{'loss': 5.7686, 'grad_norm': 0.7380263805389404, 'learning_rate': 0.001168154761904762, 'epoch': 8.75}\n"
     ]
    },
    {
     "name": "stderr",
     "output_type": "stream",
     "text": [
      " 42%|████▏     | 2281/5376 [08:34<09:16,  5.56it/s]"
     ]
    },
    {
     "name": "stdout",
     "output_type": "stream",
     "text": [
      "{'loss': 5.7896, 'grad_norm': 0.8953635096549988, 'learning_rate': 0.0011532738095238095, 'epoch': 8.91}\n"
     ]
    },
    {
     "name": "stderr",
     "output_type": "stream",
     "text": [
      "                                                   \n",
      " 43%|████▎     | 2300/5376 [08:41<09:16,  5.53it/s]"
     ]
    },
    {
     "name": "stdout",
     "output_type": "stream",
     "text": [
      "{'eval_loss': 5.913229942321777, 'eval_accuracy': 0.01098901098901099, 'eval_runtime': 2.8016, 'eval_samples_per_second': 162.406, 'eval_steps_per_second': 20.345, 'epoch': 8.98}\n"
     ]
    },
    {
     "name": "stderr",
     "output_type": "stream",
     "text": [
      " 43%|████▎     | 2321/5376 [08:46<09:22,  5.44it/s]  "
     ]
    },
    {
     "name": "stdout",
     "output_type": "stream",
     "text": [
      "{'loss': 5.7412, 'grad_norm': 1.050399661064148, 'learning_rate': 0.0011383928571428571, 'epoch': 9.06}\n"
     ]
    },
    {
     "name": "stderr",
     "output_type": "stream",
     "text": [
      " 44%|████▍     | 2361/5376 [08:53<09:08,  5.49it/s]"
     ]
    },
    {
     "name": "stdout",
     "output_type": "stream",
     "text": [
      "{'loss': 5.7098, 'grad_norm': 0.9452330470085144, 'learning_rate': 0.0011235119047619047, 'epoch': 9.22}\n"
     ]
    },
    {
     "name": "stderr",
     "output_type": "stream",
     "text": [
      " 45%|████▍     | 2400/5376 [09:00<08:59,  5.51it/s]"
     ]
    },
    {
     "name": "stdout",
     "output_type": "stream",
     "text": [
      "{'loss': 5.7215, 'grad_norm': 0.8307533264160156, 'learning_rate': 0.0011086309523809523, 'epoch': 9.38}\n"
     ]
    },
    {
     "name": "stderr",
     "output_type": "stream",
     "text": [
      "                                                   \n",
      " 45%|████▍     | 2400/5376 [09:03<08:59,  5.51it/s]"
     ]
    },
    {
     "name": "stdout",
     "output_type": "stream",
     "text": [
      "{'eval_loss': 5.951879978179932, 'eval_accuracy': 0.006593406593406593, 'eval_runtime': 2.8256, 'eval_samples_per_second': 161.026, 'eval_steps_per_second': 20.172, 'epoch': 9.38}\n"
     ]
    },
    {
     "name": "stderr",
     "output_type": "stream",
     "text": [
      " 45%|████▌     | 2441/5376 [09:12<09:10,  5.34it/s]  "
     ]
    },
    {
     "name": "stdout",
     "output_type": "stream",
     "text": [
      "{'loss': 5.7016, 'grad_norm': 0.8220053315162659, 'learning_rate': 0.00109375, 'epoch': 9.53}\n"
     ]
    },
    {
     "name": "stderr",
     "output_type": "stream",
     "text": [
      " 46%|████▌     | 2481/5376 [09:19<08:51,  5.45it/s]"
     ]
    },
    {
     "name": "stdout",
     "output_type": "stream",
     "text": [
      "{'loss': 5.7476, 'grad_norm': 1.030696988105774, 'learning_rate': 0.0010788690476190477, 'epoch': 9.69}\n"
     ]
    },
    {
     "name": "stderr",
     "output_type": "stream",
     "text": [
      "                                                   \n",
      " 47%|████▋     | 2500/5376 [09:25<08:46,  5.46it/s]"
     ]
    },
    {
     "name": "stdout",
     "output_type": "stream",
     "text": [
      "{'eval_loss': 5.925506114959717, 'eval_accuracy': 0.006593406593406593, 'eval_runtime': 2.8136, 'eval_samples_per_second': 161.713, 'eval_steps_per_second': 20.259, 'epoch': 9.77}\n"
     ]
    },
    {
     "name": "stderr",
     "output_type": "stream",
     "text": [
      " 47%|████▋     | 2521/5376 [09:31<08:45,  5.43it/s]  "
     ]
    },
    {
     "name": "stdout",
     "output_type": "stream",
     "text": [
      "{'loss': 5.7611, 'grad_norm': 0.6553401947021484, 'learning_rate': 0.0010639880952380953, 'epoch': 9.84}\n"
     ]
    },
    {
     "name": "stderr",
     "output_type": "stream",
     "text": [
      " 48%|████▊     | 2561/5376 [09:38<07:51,  5.97it/s]"
     ]
    },
    {
     "name": "stdout",
     "output_type": "stream",
     "text": [
      "{'loss': 5.7578, 'grad_norm': 1.389119029045105, 'learning_rate': 0.0010491071428571429, 'epoch': 10.0}\n"
     ]
    },
    {
     "name": "stderr",
     "output_type": "stream",
     "text": [
      " 48%|████▊     | 2600/5376 [09:45<07:45,  5.96it/s]"
     ]
    },
    {
     "name": "stdout",
     "output_type": "stream",
     "text": [
      "{'loss': 5.6268, 'grad_norm': 0.8181654810905457, 'learning_rate': 0.0010342261904761904, 'epoch': 10.16}\n"
     ]
    },
    {
     "name": "stderr",
     "output_type": "stream",
     "text": [
      "                                                   \n",
      " 48%|████▊     | 2600/5376 [09:48<07:45,  5.96it/s]"
     ]
    },
    {
     "name": "stdout",
     "output_type": "stream",
     "text": [
      "{'eval_loss': 5.9664106369018555, 'eval_accuracy': 0.004395604395604396, 'eval_runtime': 2.6946, 'eval_samples_per_second': 168.856, 'eval_steps_per_second': 21.153, 'epoch': 10.16}\n"
     ]
    },
    {
     "name": "stderr",
     "output_type": "stream",
     "text": [
      " 49%|████▉     | 2641/5376 [09:56<07:47,  5.85it/s]  "
     ]
    },
    {
     "name": "stdout",
     "output_type": "stream",
     "text": [
      "{'loss': 5.698, 'grad_norm': 0.8033058047294617, 'learning_rate': 0.0010193452380952382, 'epoch': 10.31}\n"
     ]
    },
    {
     "name": "stderr",
     "output_type": "stream",
     "text": [
      " 50%|████▉     | 2681/5376 [10:03<07:32,  5.95it/s]"
     ]
    },
    {
     "name": "stdout",
     "output_type": "stream",
     "text": [
      "{'loss': 5.7045, 'grad_norm': 0.9604973196983337, 'learning_rate': 0.0010044642857142858, 'epoch': 10.47}\n"
     ]
    },
    {
     "name": "stderr",
     "output_type": "stream",
     "text": [
      "                                                   \n",
      " 50%|█████     | 2700/5376 [10:09<07:25,  6.00it/s]"
     ]
    },
    {
     "name": "stdout",
     "output_type": "stream",
     "text": [
      "{'eval_loss': 5.939881801605225, 'eval_accuracy': 0.004395604395604396, 'eval_runtime': 2.6166, 'eval_samples_per_second': 173.891, 'eval_steps_per_second': 21.784, 'epoch': 10.55}\n"
     ]
    },
    {
     "name": "stderr",
     "output_type": "stream",
     "text": [
      " 51%|█████     | 2721/5376 [10:14<07:48,  5.67it/s]  "
     ]
    },
    {
     "name": "stdout",
     "output_type": "stream",
     "text": [
      "{'loss': 5.7104, 'grad_norm': 0.8083854913711548, 'learning_rate': 0.0009895833333333334, 'epoch': 10.62}\n"
     ]
    },
    {
     "name": "stderr",
     "output_type": "stream",
     "text": [
      " 51%|█████▏    | 2761/5376 [10:20<07:21,  5.93it/s]"
     ]
    },
    {
     "name": "stdout",
     "output_type": "stream",
     "text": [
      "{'loss': 5.7091, 'grad_norm': 1.1431297063827515, 'learning_rate': 0.000974702380952381, 'epoch': 10.78}\n"
     ]
    },
    {
     "name": "stderr",
     "output_type": "stream",
     "text": [
      " 52%|█████▏    | 2800/5376 [10:27<07:14,  5.94it/s]"
     ]
    },
    {
     "name": "stdout",
     "output_type": "stream",
     "text": [
      "{'loss': 5.7173, 'grad_norm': 0.7718212604522705, 'learning_rate': 0.0009598214285714286, 'epoch': 10.94}\n"
     ]
    },
    {
     "name": "stderr",
     "output_type": "stream",
     "text": [
      "                                                   \n",
      " 52%|█████▏    | 2800/5376 [10:30<07:14,  5.94it/s]"
     ]
    },
    {
     "name": "stdout",
     "output_type": "stream",
     "text": [
      "{'eval_loss': 5.94040584564209, 'eval_accuracy': 0.01098901098901099, 'eval_runtime': 2.6856, 'eval_samples_per_second': 169.423, 'eval_steps_per_second': 21.224, 'epoch': 10.94}\n"
     ]
    },
    {
     "name": "stderr",
     "output_type": "stream",
     "text": [
      " 53%|█████▎    | 2841/5376 [10:38<07:06,  5.94it/s]  "
     ]
    },
    {
     "name": "stdout",
     "output_type": "stream",
     "text": [
      "{'loss': 5.6915, 'grad_norm': 0.7338135242462158, 'learning_rate': 0.0009449404761904762, 'epoch': 11.09}\n"
     ]
    },
    {
     "name": "stderr",
     "output_type": "stream",
     "text": [
      " 54%|█████▎    | 2881/5376 [10:45<07:08,  5.82it/s]"
     ]
    },
    {
     "name": "stdout",
     "output_type": "stream",
     "text": [
      "{'loss': 5.6729, 'grad_norm': 2.5799560546875, 'learning_rate': 0.0009300595238095239, 'epoch': 11.25}\n"
     ]
    },
    {
     "name": "stderr",
     "output_type": "stream",
     "text": [
      "                                                   \n",
      " 54%|█████▍    | 2900/5376 [10:51<06:48,  6.07it/s]"
     ]
    },
    {
     "name": "stdout",
     "output_type": "stream",
     "text": [
      "{'eval_loss': 5.942921161651611, 'eval_accuracy': 0.01098901098901099, 'eval_runtime': 2.6146, 'eval_samples_per_second': 174.024, 'eval_steps_per_second': 21.801, 'epoch': 11.33}\n"
     ]
    },
    {
     "name": "stderr",
     "output_type": "stream",
     "text": [
      " 54%|█████▍    | 2921/5376 [10:56<06:55,  5.91it/s]"
     ]
    },
    {
     "name": "stdout",
     "output_type": "stream",
     "text": [
      "{'loss': 5.6196, 'grad_norm': 0.7959123849868774, 'learning_rate': 0.0009155505952380953, 'epoch': 11.41}\n"
     ]
    },
    {
     "name": "stderr",
     "output_type": "stream",
     "text": [
      " 55%|█████▌    | 2961/5376 [11:03<06:39,  6.05it/s]"
     ]
    },
    {
     "name": "stdout",
     "output_type": "stream",
     "text": [
      "{'loss': 5.7088, 'grad_norm': 0.9314542412757874, 'learning_rate': 0.0009006696428571429, 'epoch': 11.56}\n"
     ]
    },
    {
     "name": "stderr",
     "output_type": "stream",
     "text": [
      " 56%|█████▌    | 3000/5376 [11:09<06:42,  5.91it/s]"
     ]
    },
    {
     "name": "stdout",
     "output_type": "stream",
     "text": [
      "{'loss': 5.6945, 'grad_norm': 0.8938705325126648, 'learning_rate': 0.0008857886904761905, 'epoch': 11.72}\n"
     ]
    },
    {
     "name": "stderr",
     "output_type": "stream",
     "text": [
      "                                                   \n",
      " 56%|█████▌    | 3000/5376 [11:12<06:42,  5.91it/s]"
     ]
    },
    {
     "name": "stdout",
     "output_type": "stream",
     "text": [
      "{'eval_loss': 5.920552730560303, 'eval_accuracy': 0.013186813186813187, 'eval_runtime': 2.5876, 'eval_samples_per_second': 175.84, 'eval_steps_per_second': 22.028, 'epoch': 11.72}\n"
     ]
    },
    {
     "name": "stderr",
     "output_type": "stream",
     "text": [
      " 57%|█████▋    | 3041/5376 [11:20<06:45,  5.76it/s]"
     ]
    },
    {
     "name": "stdout",
     "output_type": "stream",
     "text": [
      "{'loss': 5.686, 'grad_norm': 0.9602356553077698, 'learning_rate': 0.0008709077380952381, 'epoch': 11.88}\n"
     ]
    },
    {
     "name": "stderr",
     "output_type": "stream",
     "text": [
      " 57%|█████▋    | 3081/5376 [11:27<06:29,  5.89it/s]"
     ]
    },
    {
     "name": "stdout",
     "output_type": "stream",
     "text": [
      "{'loss': 5.7018, 'grad_norm': 1.0297551155090332, 'learning_rate': 0.0008560267857142857, 'epoch': 12.03}\n"
     ]
    },
    {
     "name": "stderr",
     "output_type": "stream",
     "text": [
      "                                                   \n",
      " 58%|█████▊    | 3100/5376 [11:33<06:25,  5.90it/s]"
     ]
    },
    {
     "name": "stdout",
     "output_type": "stream",
     "text": [
      "{'eval_loss': 5.969475746154785, 'eval_accuracy': 0.006593406593406593, 'eval_runtime': 2.6246, 'eval_samples_per_second': 173.361, 'eval_steps_per_second': 21.718, 'epoch': 12.11}\n"
     ]
    },
    {
     "name": "stderr",
     "output_type": "stream",
     "text": [
      " 58%|█████▊    | 3121/5376 [11:38<06:25,  5.85it/s]"
     ]
    },
    {
     "name": "stdout",
     "output_type": "stream",
     "text": [
      "{'loss': 5.6301, 'grad_norm': 0.8836265802383423, 'learning_rate': 0.0008411458333333334, 'epoch': 12.19}\n"
     ]
    },
    {
     "name": "stderr",
     "output_type": "stream",
     "text": [
      " 59%|█████▉    | 3161/5376 [11:45<06:16,  5.89it/s]"
     ]
    },
    {
     "name": "stdout",
     "output_type": "stream",
     "text": [
      "{'loss': 5.623, 'grad_norm': 1.1856673955917358, 'learning_rate': 0.000826264880952381, 'epoch': 12.34}\n"
     ]
    },
    {
     "name": "stderr",
     "output_type": "stream",
     "text": [
      " 60%|█████▉    | 3200/5376 [11:51<06:01,  6.01it/s]"
     ]
    },
    {
     "name": "stdout",
     "output_type": "stream",
     "text": [
      "{'loss': 5.6653, 'grad_norm': 0.8593180775642395, 'learning_rate': 0.0008113839285714287, 'epoch': 12.5}\n"
     ]
    },
    {
     "name": "stderr",
     "output_type": "stream",
     "text": [
      "                                                   \n",
      " 60%|█████▉    | 3200/5376 [11:54<06:01,  6.01it/s]"
     ]
    },
    {
     "name": "stdout",
     "output_type": "stream",
     "text": [
      "{'eval_loss': 5.949522972106934, 'eval_accuracy': 0.008791208791208791, 'eval_runtime': 2.5646, 'eval_samples_per_second': 177.417, 'eval_steps_per_second': 22.226, 'epoch': 12.5}\n"
     ]
    },
    {
     "name": "stderr",
     "output_type": "stream",
     "text": [
      " 60%|██████    | 3241/5376 [12:02<05:56,  5.99it/s]"
     ]
    },
    {
     "name": "stdout",
     "output_type": "stream",
     "text": [
      "{'loss': 5.6692, 'grad_norm': 0.7960764765739441, 'learning_rate': 0.0007965029761904761, 'epoch': 12.66}\n"
     ]
    },
    {
     "name": "stderr",
     "output_type": "stream",
     "text": [
      " 61%|██████    | 3281/5376 [12:09<06:02,  5.78it/s]"
     ]
    },
    {
     "name": "stdout",
     "output_type": "stream",
     "text": [
      "{'loss': 5.6722, 'grad_norm': 0.9178047776222229, 'learning_rate': 0.0007816220238095238, 'epoch': 12.81}\n"
     ]
    },
    {
     "name": "stderr",
     "output_type": "stream",
     "text": [
      "                                                   \n",
      " 61%|██████▏   | 3300/5376 [12:15<05:50,  5.92it/s]"
     ]
    },
    {
     "name": "stdout",
     "output_type": "stream",
     "text": [
      "{'eval_loss': 5.937118053436279, 'eval_accuracy': 0.01098901098901099, 'eval_runtime': 2.6536, 'eval_samples_per_second': 171.466, 'eval_steps_per_second': 21.48, 'epoch': 12.89}\n"
     ]
    },
    {
     "name": "stderr",
     "output_type": "stream",
     "text": [
      " 62%|██████▏   | 3321/5376 [12:20<05:43,  5.98it/s]"
     ]
    },
    {
     "name": "stdout",
     "output_type": "stream",
     "text": [
      "{'loss': 5.6642, 'grad_norm': 0.9053987264633179, 'learning_rate': 0.0007667410714285714, 'epoch': 12.97}\n"
     ]
    },
    {
     "name": "stderr",
     "output_type": "stream",
     "text": [
      " 63%|██████▎   | 3361/5376 [12:26<05:34,  6.03it/s]"
     ]
    },
    {
     "name": "stdout",
     "output_type": "stream",
     "text": [
      "{'loss': 5.5883, 'grad_norm': 1.0099369287490845, 'learning_rate': 0.0007518601190476191, 'epoch': 13.12}\n"
     ]
    },
    {
     "name": "stderr",
     "output_type": "stream",
     "text": [
      " 63%|██████▎   | 3400/5376 [12:33<05:24,  6.08it/s]"
     ]
    },
    {
     "name": "stdout",
     "output_type": "stream",
     "text": [
      "{'loss': 5.607, 'grad_norm': 1.3471581935882568, 'learning_rate': 0.0007373511904761905, 'epoch': 13.28}\n"
     ]
    },
    {
     "name": "stderr",
     "output_type": "stream",
     "text": [
      "                                                   \n",
      " 63%|██████▎   | 3400/5376 [12:35<05:24,  6.08it/s]"
     ]
    },
    {
     "name": "stdout",
     "output_type": "stream",
     "text": [
      "{'eval_loss': 5.976511001586914, 'eval_accuracy': 0.004395604395604396, 'eval_runtime': 2.6516, 'eval_samples_per_second': 171.595, 'eval_steps_per_second': 21.497, 'epoch': 13.28}\n"
     ]
    },
    {
     "name": "stderr",
     "output_type": "stream",
     "text": [
      " 64%|██████▍   | 3441/5376 [12:43<05:31,  5.84it/s]"
     ]
    },
    {
     "name": "stdout",
     "output_type": "stream",
     "text": [
      "{'loss': 5.5796, 'grad_norm': 2.4789392948150635, 'learning_rate': 0.0007224702380952382, 'epoch': 13.44}\n"
     ]
    },
    {
     "name": "stderr",
     "output_type": "stream",
     "text": [
      " 65%|██████▍   | 3481/5376 [12:50<05:16,  5.99it/s]"
     ]
    },
    {
     "name": "stdout",
     "output_type": "stream",
     "text": [
      "{'loss': 5.6573, 'grad_norm': 1.092004418373108, 'learning_rate': 0.0007075892857142857, 'epoch': 13.59}\n"
     ]
    },
    {
     "name": "stderr",
     "output_type": "stream",
     "text": [
      "                                                   \n",
      " 65%|██████▌   | 3500/5376 [12:56<05:12,  6.00it/s]"
     ]
    },
    {
     "name": "stdout",
     "output_type": "stream",
     "text": [
      "{'eval_loss': 6.001524448394775, 'eval_accuracy': 0.01098901098901099, 'eval_runtime': 2.6216, 'eval_samples_per_second': 173.559, 'eval_steps_per_second': 21.743, 'epoch': 13.67}\n"
     ]
    },
    {
     "name": "stderr",
     "output_type": "stream",
     "text": [
      " 65%|██████▌   | 3521/5376 [13:00<05:08,  6.02it/s]"
     ]
    },
    {
     "name": "stdout",
     "output_type": "stream",
     "text": [
      "{'loss': 5.6281, 'grad_norm': 1.394287347793579, 'learning_rate': 0.0006927083333333334, 'epoch': 13.75}\n"
     ]
    },
    {
     "name": "stderr",
     "output_type": "stream",
     "text": [
      " 66%|██████▌   | 3561/5376 [13:07<05:01,  6.02it/s]"
     ]
    },
    {
     "name": "stdout",
     "output_type": "stream",
     "text": [
      "{'loss': 5.6741, 'grad_norm': 0.8624197244644165, 'learning_rate': 0.000677827380952381, 'epoch': 13.91}\n"
     ]
    },
    {
     "name": "stderr",
     "output_type": "stream",
     "text": [
      " 67%|██████▋   | 3600/5376 [13:13<04:54,  6.04it/s]"
     ]
    },
    {
     "name": "stdout",
     "output_type": "stream",
     "text": [
      "{'loss': 5.5861, 'grad_norm': 1.0657680034637451, 'learning_rate': 0.0006629464285714286, 'epoch': 14.06}\n"
     ]
    },
    {
     "name": "stderr",
     "output_type": "stream",
     "text": [
      "                                                   \n",
      " 67%|██████▋   | 3600/5376 [13:16<04:54,  6.04it/s]"
     ]
    },
    {
     "name": "stdout",
     "output_type": "stream",
     "text": [
      "{'eval_loss': 6.002927303314209, 'eval_accuracy': 0.008791208791208791, 'eval_runtime': 2.6386, 'eval_samples_per_second': 172.44, 'eval_steps_per_second': 21.602, 'epoch': 14.06}\n"
     ]
    },
    {
     "name": "stderr",
     "output_type": "stream",
     "text": [
      " 68%|██████▊   | 3641/5376 [13:24<04:50,  5.98it/s]"
     ]
    },
    {
     "name": "stdout",
     "output_type": "stream",
     "text": [
      "{'loss': 5.5608, 'grad_norm': 1.0815638303756714, 'learning_rate': 0.0006480654761904761, 'epoch': 14.22}\n"
     ]
    },
    {
     "name": "stderr",
     "output_type": "stream",
     "text": [
      " 68%|██████▊   | 3681/5376 [13:30<04:43,  5.98it/s]"
     ]
    },
    {
     "name": "stdout",
     "output_type": "stream",
     "text": [
      "{'loss': 5.5851, 'grad_norm': 1.1487114429473877, 'learning_rate': 0.0006331845238095238, 'epoch': 14.38}\n"
     ]
    },
    {
     "name": "stderr",
     "output_type": "stream",
     "text": [
      "                                                   \n",
      " 69%|██████▉   | 3700/5376 [13:36<04:38,  6.02it/s]"
     ]
    },
    {
     "name": "stdout",
     "output_type": "stream",
     "text": [
      "{'eval_loss': 5.9910969734191895, 'eval_accuracy': 0.006593406593406593, 'eval_runtime': 2.5876, 'eval_samples_per_second': 175.84, 'eval_steps_per_second': 22.028, 'epoch': 14.45}\n"
     ]
    },
    {
     "name": "stderr",
     "output_type": "stream",
     "text": [
      " 69%|██████▉   | 3721/5376 [13:40<04:37,  5.95it/s]"
     ]
    },
    {
     "name": "stdout",
     "output_type": "stream",
     "text": [
      "{'loss': 5.577, 'grad_norm': 0.9563024640083313, 'learning_rate': 0.0006183035714285714, 'epoch': 14.53}\n"
     ]
    },
    {
     "name": "stderr",
     "output_type": "stream",
     "text": [
      " 70%|██████▉   | 3761/5376 [13:47<04:29,  5.99it/s]"
     ]
    },
    {
     "name": "stdout",
     "output_type": "stream",
     "text": [
      "{'loss': 5.5828, 'grad_norm': 1.182022213935852, 'learning_rate': 0.0006034226190476191, 'epoch': 14.69}\n"
     ]
    },
    {
     "name": "stderr",
     "output_type": "stream",
     "text": [
      " 71%|███████   | 3800/5376 [13:54<04:19,  6.07it/s]"
     ]
    },
    {
     "name": "stdout",
     "output_type": "stream",
     "text": [
      "{'loss': 5.6048, 'grad_norm': 1.3530813455581665, 'learning_rate': 0.0005885416666666667, 'epoch': 14.84}\n"
     ]
    },
    {
     "name": "stderr",
     "output_type": "stream",
     "text": [
      "                                                   \n",
      " 71%|███████   | 3800/5376 [13:56<04:19,  6.07it/s]"
     ]
    },
    {
     "name": "stdout",
     "output_type": "stream",
     "text": [
      "{'eval_loss': 5.961697101593018, 'eval_accuracy': 0.013186813186813187, 'eval_runtime': 2.5966, 'eval_samples_per_second': 175.23, 'eval_steps_per_second': 21.952, 'epoch': 14.84}\n"
     ]
    },
    {
     "name": "stderr",
     "output_type": "stream",
     "text": [
      " 71%|███████▏  | 3841/5376 [14:04<03:56,  6.50it/s]"
     ]
    },
    {
     "name": "stdout",
     "output_type": "stream",
     "text": [
      "{'loss': 5.5802, 'grad_norm': 1.3320460319519043, 'learning_rate': 0.0005736607142857143, 'epoch': 15.0}\n"
     ]
    },
    {
     "name": "stderr",
     "output_type": "stream",
     "text": [
      " 72%|███████▏  | 3881/5376 [14:10<04:06,  6.07it/s]"
     ]
    },
    {
     "name": "stdout",
     "output_type": "stream",
     "text": [
      "{'loss': 5.482, 'grad_norm': 1.0355627536773682, 'learning_rate': 0.0005587797619047619, 'epoch': 15.16}\n"
     ]
    },
    {
     "name": "stderr",
     "output_type": "stream",
     "text": [
      "                                                   \n",
      " 73%|███████▎  | 3900/5376 [14:16<04:07,  5.97it/s]"
     ]
    },
    {
     "name": "stdout",
     "output_type": "stream",
     "text": [
      "{'eval_loss': 6.053142070770264, 'eval_accuracy': 0.004395604395604396, 'eval_runtime': 2.6136, 'eval_samples_per_second': 174.09, 'eval_steps_per_second': 21.809, 'epoch': 15.23}\n"
     ]
    },
    {
     "name": "stderr",
     "output_type": "stream",
     "text": [
      " 73%|███████▎  | 3921/5376 [14:21<04:02,  6.00it/s]"
     ]
    },
    {
     "name": "stdout",
     "output_type": "stream",
     "text": [
      "{'loss': 5.5256, 'grad_norm': 1.610811710357666, 'learning_rate': 0.0005438988095238095, 'epoch': 15.31}\n"
     ]
    },
    {
     "name": "stderr",
     "output_type": "stream",
     "text": [
      " 74%|███████▎  | 3961/5376 [14:27<03:55,  6.01it/s]"
     ]
    },
    {
     "name": "stdout",
     "output_type": "stream",
     "text": [
      "{'loss': 5.5458, 'grad_norm': 0.9760407209396362, 'learning_rate': 0.0005290178571428571, 'epoch': 15.47}\n"
     ]
    },
    {
     "name": "stderr",
     "output_type": "stream",
     "text": [
      " 74%|███████▍  | 4000/5376 [14:34<03:47,  6.04it/s]"
     ]
    },
    {
     "name": "stdout",
     "output_type": "stream",
     "text": [
      "{'loss': 5.5489, 'grad_norm': 1.159792184829712, 'learning_rate': 0.0005141369047619048, 'epoch': 15.62}\n"
     ]
    },
    {
     "name": "stderr",
     "output_type": "stream",
     "text": [
      "                                                   \n",
      " 74%|███████▍  | 4000/5376 [14:36<03:47,  6.04it/s]"
     ]
    },
    {
     "name": "stdout",
     "output_type": "stream",
     "text": [
      "{'eval_loss': 6.005554676055908, 'eval_accuracy': 0.004395604395604396, 'eval_runtime': 2.631, 'eval_samples_per_second': 172.94, 'eval_steps_per_second': 21.665, 'epoch': 15.62}\n"
     ]
    },
    {
     "name": "stderr",
     "output_type": "stream",
     "text": [
      " 75%|███████▌  | 4041/5376 [14:44<03:43,  5.96it/s]"
     ]
    },
    {
     "name": "stdout",
     "output_type": "stream",
     "text": [
      "{'loss': 5.5899, 'grad_norm': 1.361088514328003, 'learning_rate': 0.0004992559523809524, 'epoch': 15.78}\n"
     ]
    },
    {
     "name": "stderr",
     "output_type": "stream",
     "text": [
      " 76%|███████▌  | 4081/5376 [14:51<03:35,  6.00it/s]"
     ]
    },
    {
     "name": "stdout",
     "output_type": "stream",
     "text": [
      "{'loss': 5.5874, 'grad_norm': 1.1781901121139526, 'learning_rate': 0.000484375, 'epoch': 15.94}\n"
     ]
    },
    {
     "name": "stderr",
     "output_type": "stream",
     "text": [
      "                                                   \n",
      " 76%|███████▋  | 4100/5376 [14:56<03:23,  6.28it/s]"
     ]
    },
    {
     "name": "stdout",
     "output_type": "stream",
     "text": [
      "{'eval_loss': 5.996334075927734, 'eval_accuracy': 0.01098901098901099, 'eval_runtime': 2.5806, 'eval_samples_per_second': 176.317, 'eval_steps_per_second': 22.088, 'epoch': 16.02}\n"
     ]
    },
    {
     "name": "stderr",
     "output_type": "stream",
     "text": [
      " 77%|███████▋  | 4121/5376 [15:01<03:29,  6.00it/s]"
     ]
    },
    {
     "name": "stdout",
     "output_type": "stream",
     "text": [
      "{'loss': 5.5156, 'grad_norm': 1.039414644241333, 'learning_rate': 0.00046949404761904764, 'epoch': 16.09}\n"
     ]
    },
    {
     "name": "stderr",
     "output_type": "stream",
     "text": [
      " 77%|███████▋  | 4161/5376 [15:07<03:23,  5.96it/s]"
     ]
    },
    {
     "name": "stdout",
     "output_type": "stream",
     "text": [
      "{'loss': 5.5397, 'grad_norm': 1.1432783603668213, 'learning_rate': 0.0004546130952380952, 'epoch': 16.25}\n"
     ]
    },
    {
     "name": "stderr",
     "output_type": "stream",
     "text": [
      " 78%|███████▊  | 4200/5376 [15:14<03:15,  6.00it/s]"
     ]
    },
    {
     "name": "stdout",
     "output_type": "stream",
     "text": [
      "{'loss': 5.4739, 'grad_norm': 1.3364968299865723, 'learning_rate': 0.00043973214285714286, 'epoch': 16.41}\n"
     ]
    },
    {
     "name": "stderr",
     "output_type": "stream",
     "text": [
      "                                                   \n",
      " 78%|███████▊  | 4200/5376 [15:16<03:15,  6.00it/s]"
     ]
    },
    {
     "name": "stdout",
     "output_type": "stream",
     "text": [
      "{'eval_loss': 6.048321723937988, 'eval_accuracy': 0.013186813186813187, 'eval_runtime': 2.6236, 'eval_samples_per_second': 173.427, 'eval_steps_per_second': 21.726, 'epoch': 16.41}\n"
     ]
    },
    {
     "name": "stderr",
     "output_type": "stream",
     "text": [
      " 79%|███████▉  | 4241/5376 [15:24<03:08,  6.02it/s]"
     ]
    },
    {
     "name": "stdout",
     "output_type": "stream",
     "text": [
      "{'loss': 5.4959, 'grad_norm': 1.2121429443359375, 'learning_rate': 0.0004248511904761905, 'epoch': 16.56}\n"
     ]
    },
    {
     "name": "stderr",
     "output_type": "stream",
     "text": [
      " 80%|███████▉  | 4281/5376 [15:31<03:01,  6.04it/s]"
     ]
    },
    {
     "name": "stdout",
     "output_type": "stream",
     "text": [
      "{'loss': 5.523, 'grad_norm': 1.0403386354446411, 'learning_rate': 0.0004099702380952381, 'epoch': 16.72}\n"
     ]
    },
    {
     "name": "stderr",
     "output_type": "stream",
     "text": [
      "                                                   \n",
      " 80%|███████▉  | 4300/5376 [15:36<02:57,  6.07it/s]"
     ]
    },
    {
     "name": "stdout",
     "output_type": "stream",
     "text": [
      "{'eval_loss': 6.023982048034668, 'eval_accuracy': 0.006593406593406593, 'eval_runtime': 2.5611, 'eval_samples_per_second': 177.659, 'eval_steps_per_second': 22.256, 'epoch': 16.8}\n"
     ]
    },
    {
     "name": "stderr",
     "output_type": "stream",
     "text": [
      " 80%|████████  | 4321/5376 [15:41<02:55,  6.01it/s]"
     ]
    },
    {
     "name": "stdout",
     "output_type": "stream",
     "text": [
      "{'loss': 5.5305, 'grad_norm': 7.582984924316406, 'learning_rate': 0.0003950892857142857, 'epoch': 16.88}\n"
     ]
    },
    {
     "name": "stderr",
     "output_type": "stream",
     "text": [
      " 81%|████████  | 4361/5376 [15:47<02:47,  6.04it/s]"
     ]
    },
    {
     "name": "stdout",
     "output_type": "stream",
     "text": [
      "{'loss': 5.5236, 'grad_norm': 1.0652426481246948, 'learning_rate': 0.0003802083333333333, 'epoch': 17.03}\n"
     ]
    },
    {
     "name": "stderr",
     "output_type": "stream",
     "text": [
      " 82%|████████▏ | 4400/5376 [15:54<02:41,  6.04it/s]"
     ]
    },
    {
     "name": "stdout",
     "output_type": "stream",
     "text": [
      "{'loss': 5.4536, 'grad_norm': 1.0810023546218872, 'learning_rate': 0.00036532738095238095, 'epoch': 17.19}\n"
     ]
    },
    {
     "name": "stderr",
     "output_type": "stream",
     "text": [
      "                                                   \n",
      " 82%|████████▏ | 4400/5376 [15:56<02:41,  6.04it/s]"
     ]
    },
    {
     "name": "stdout",
     "output_type": "stream",
     "text": [
      "{'eval_loss': 6.035165309906006, 'eval_accuracy': 0.006593406593406593, 'eval_runtime': 2.6045, 'eval_samples_per_second': 174.694, 'eval_steps_per_second': 21.885, 'epoch': 17.19}\n"
     ]
    },
    {
     "name": "stderr",
     "output_type": "stream",
     "text": [
      " 83%|████████▎ | 4441/5376 [16:04<02:36,  5.99it/s]"
     ]
    },
    {
     "name": "stdout",
     "output_type": "stream",
     "text": [
      "{'loss': 5.4626, 'grad_norm': 1.3444743156433105, 'learning_rate': 0.00035044642857142853, 'epoch': 17.34}\n"
     ]
    },
    {
     "name": "stderr",
     "output_type": "stream",
     "text": [
      " 83%|████████▎ | 4481/5376 [16:11<02:30,  5.96it/s]"
     ]
    },
    {
     "name": "stdout",
     "output_type": "stream",
     "text": [
      "{'loss': 5.4686, 'grad_norm': 14.382766723632812, 'learning_rate': 0.0003355654761904762, 'epoch': 17.5}\n"
     ]
    },
    {
     "name": "stderr",
     "output_type": "stream",
     "text": [
      "                                                   \n",
      " 84%|████████▎ | 4500/5376 [16:16<02:27,  5.93it/s]"
     ]
    },
    {
     "name": "stdout",
     "output_type": "stream",
     "text": [
      "{'eval_loss': 6.010310649871826, 'eval_accuracy': 0.002197802197802198, 'eval_runtime': 2.5856, 'eval_samples_per_second': 175.976, 'eval_steps_per_second': 22.045, 'epoch': 17.58}\n"
     ]
    },
    {
     "name": "stderr",
     "output_type": "stream",
     "text": [
      " 84%|████████▍ | 4521/5376 [16:21<02:22,  5.99it/s]"
     ]
    },
    {
     "name": "stdout",
     "output_type": "stream",
     "text": [
      "{'loss': 5.4972, 'grad_norm': 1.0834311246871948, 'learning_rate': 0.00032068452380952387, 'epoch': 17.66}\n"
     ]
    },
    {
     "name": "stderr",
     "output_type": "stream",
     "text": [
      " 85%|████████▍ | 4561/5376 [16:27<02:15,  6.01it/s]"
     ]
    },
    {
     "name": "stdout",
     "output_type": "stream",
     "text": [
      "{'loss': 5.4897, 'grad_norm': 1.3289865255355835, 'learning_rate': 0.00030580357142857145, 'epoch': 17.81}\n"
     ]
    },
    {
     "name": "stderr",
     "output_type": "stream",
     "text": [
      " 86%|████████▌ | 4600/5376 [16:34<02:08,  6.06it/s]"
     ]
    },
    {
     "name": "stdout",
     "output_type": "stream",
     "text": [
      "{'loss': 5.5007, 'grad_norm': 1.6480062007904053, 'learning_rate': 0.0002909226190476191, 'epoch': 17.97}\n"
     ]
    },
    {
     "name": "stderr",
     "output_type": "stream",
     "text": [
      "                                                   \n",
      " 86%|████████▌ | 4600/5376 [16:36<02:08,  6.06it/s]"
     ]
    },
    {
     "name": "stdout",
     "output_type": "stream",
     "text": [
      "{'eval_loss': 6.0189948081970215, 'eval_accuracy': 0.004395604395604396, 'eval_runtime': 2.5696, 'eval_samples_per_second': 177.072, 'eval_steps_per_second': 22.183, 'epoch': 17.97}\n"
     ]
    },
    {
     "name": "stderr",
     "output_type": "stream",
     "text": [
      " 86%|████████▋ | 4641/5376 [16:44<02:01,  6.04it/s]"
     ]
    },
    {
     "name": "stdout",
     "output_type": "stream",
     "text": [
      "{'loss': 5.4695, 'grad_norm': 1.4657548666000366, 'learning_rate': 0.0002760416666666667, 'epoch': 18.12}\n"
     ]
    },
    {
     "name": "stderr",
     "output_type": "stream",
     "text": [
      " 87%|████████▋ | 4681/5376 [16:51<01:55,  6.02it/s]"
     ]
    },
    {
     "name": "stdout",
     "output_type": "stream",
     "text": [
      "{'loss': 5.3699, 'grad_norm': 1.992915153503418, 'learning_rate': 0.0002611607142857143, 'epoch': 18.28}\n"
     ]
    },
    {
     "name": "stderr",
     "output_type": "stream",
     "text": [
      "                                                   \n",
      " 87%|████████▋ | 4700/5376 [16:56<01:51,  6.06it/s]"
     ]
    },
    {
     "name": "stdout",
     "output_type": "stream",
     "text": [
      "{'eval_loss': 6.04396915435791, 'eval_accuracy': 0.008791208791208791, 'eval_runtime': 2.5846, 'eval_samples_per_second': 176.044, 'eval_steps_per_second': 22.054, 'epoch': 18.36}\n"
     ]
    },
    {
     "name": "stderr",
     "output_type": "stream",
     "text": [
      " 88%|████████▊ | 4721/5376 [17:01<01:49,  5.98it/s]"
     ]
    },
    {
     "name": "stdout",
     "output_type": "stream",
     "text": [
      "{'loss': 5.475, 'grad_norm': 1.3256889581680298, 'learning_rate': 0.0002462797619047619, 'epoch': 18.44}\n"
     ]
    },
    {
     "name": "stderr",
     "output_type": "stream",
     "text": [
      " 89%|████████▊ | 4761/5376 [17:07<01:42,  6.00it/s]"
     ]
    },
    {
     "name": "stdout",
     "output_type": "stream",
     "text": [
      "{'loss': 5.4262, 'grad_norm': 1.323127269744873, 'learning_rate': 0.00023139880952380954, 'epoch': 18.59}\n"
     ]
    },
    {
     "name": "stderr",
     "output_type": "stream",
     "text": [
      " 89%|████████▉ | 4800/5376 [17:14<01:36,  5.96it/s]"
     ]
    },
    {
     "name": "stdout",
     "output_type": "stream",
     "text": [
      "{'loss': 5.4836, 'grad_norm': 3.1783814430236816, 'learning_rate': 0.00021651785714285715, 'epoch': 18.75}\n"
     ]
    },
    {
     "name": "stderr",
     "output_type": "stream",
     "text": [
      "                                                   \n",
      " 89%|████████▉ | 4800/5376 [17:17<01:36,  5.96it/s]"
     ]
    },
    {
     "name": "stdout",
     "output_type": "stream",
     "text": [
      "{'eval_loss': 6.044681549072266, 'eval_accuracy': 0.004395604395604396, 'eval_runtime': 2.5963, 'eval_samples_per_second': 175.251, 'eval_steps_per_second': 21.954, 'epoch': 18.75}\n"
     ]
    },
    {
     "name": "stderr",
     "output_type": "stream",
     "text": [
      " 90%|█████████ | 4841/5376 [17:24<01:28,  6.02it/s]"
     ]
    },
    {
     "name": "stdout",
     "output_type": "stream",
     "text": [
      "{'loss': 5.4713, 'grad_norm': 1.189603328704834, 'learning_rate': 0.00020163690476190477, 'epoch': 18.91}\n"
     ]
    },
    {
     "name": "stderr",
     "output_type": "stream",
     "text": [
      " 91%|█████████ | 4881/5376 [17:31<01:21,  6.04it/s]"
     ]
    },
    {
     "name": "stdout",
     "output_type": "stream",
     "text": [
      "{'loss': 5.3967, 'grad_norm': 9.516371726989746, 'learning_rate': 0.00018675595238095238, 'epoch': 19.06}\n"
     ]
    },
    {
     "name": "stderr",
     "output_type": "stream",
     "text": [
      "                                                   \n",
      " 91%|█████████ | 4900/5376 [17:37<01:18,  6.05it/s]"
     ]
    },
    {
     "name": "stdout",
     "output_type": "stream",
     "text": [
      "{'eval_loss': 6.04794454574585, 'eval_accuracy': 0.008791208791208791, 'eval_runtime': 2.5766, 'eval_samples_per_second': 176.59, 'eval_steps_per_second': 22.122, 'epoch': 19.14}\n"
     ]
    },
    {
     "name": "stderr",
     "output_type": "stream",
     "text": [
      " 92%|█████████▏| 4921/5376 [17:41<01:16,  5.97it/s]"
     ]
    },
    {
     "name": "stdout",
     "output_type": "stream",
     "text": [
      "{'loss': 5.4095, 'grad_norm': 1.1230732202529907, 'learning_rate': 0.000171875, 'epoch': 19.22}\n"
     ]
    },
    {
     "name": "stderr",
     "output_type": "stream",
     "text": [
      " 92%|█████████▏| 4961/5376 [17:48<01:09,  6.01it/s]"
     ]
    },
    {
     "name": "stdout",
     "output_type": "stream",
     "text": [
      "{'loss': 5.4669, 'grad_norm': 1.943648099899292, 'learning_rate': 0.00015699404761904763, 'epoch': 19.38}\n"
     ]
    },
    {
     "name": "stderr",
     "output_type": "stream",
     "text": [
      " 93%|█████████▎| 5000/5376 [17:54<01:02,  6.04it/s]"
     ]
    },
    {
     "name": "stdout",
     "output_type": "stream",
     "text": [
      "{'loss': 5.4121, 'grad_norm': 1.4373583793640137, 'learning_rate': 0.00014211309523809524, 'epoch': 19.53}\n"
     ]
    },
    {
     "name": "stderr",
     "output_type": "stream",
     "text": [
      "                                                   \n",
      " 93%|█████████▎| 5000/5376 [17:57<01:02,  6.04it/s]"
     ]
    },
    {
     "name": "stdout",
     "output_type": "stream",
     "text": [
      "{'eval_loss': 6.05008602142334, 'eval_accuracy': 0.01098901098901099, 'eval_runtime': 2.6205, 'eval_samples_per_second': 173.628, 'eval_steps_per_second': 21.751, 'epoch': 19.53}\n"
     ]
    },
    {
     "name": "stderr",
     "output_type": "stream",
     "text": [
      " 94%|█████████▍| 5041/5376 [18:04<00:55,  6.02it/s]"
     ]
    },
    {
     "name": "stdout",
     "output_type": "stream",
     "text": [
      "{'loss': 5.3836, 'grad_norm': 1.5274819135665894, 'learning_rate': 0.00012723214285714285, 'epoch': 19.69}\n"
     ]
    },
    {
     "name": "stderr",
     "output_type": "stream",
     "text": [
      " 95%|█████████▍| 5081/5376 [18:11<00:50,  5.86it/s]"
     ]
    },
    {
     "name": "stdout",
     "output_type": "stream",
     "text": [
      "{'loss': 5.3857, 'grad_norm': 1.3949979543685913, 'learning_rate': 0.00011235119047619048, 'epoch': 19.84}\n"
     ]
    },
    {
     "name": "stderr",
     "output_type": "stream",
     "text": [
      "                                                   \n",
      " 95%|█████████▍| 5100/5376 [18:17<00:46,  5.95it/s]"
     ]
    },
    {
     "name": "stdout",
     "output_type": "stream",
     "text": [
      "{'eval_loss': 6.074631214141846, 'eval_accuracy': 0.008791208791208791, 'eval_runtime': 2.5926, 'eval_samples_per_second': 175.501, 'eval_steps_per_second': 21.986, 'epoch': 19.92}\n"
     ]
    },
    {
     "name": "stderr",
     "output_type": "stream",
     "text": [
      " 95%|█████████▌| 5120/5376 [18:21<00:41,  6.17it/s]"
     ]
    },
    {
     "name": "stdout",
     "output_type": "stream",
     "text": [
      "{'loss': 5.4418, 'grad_norm': 1.5813429355621338, 'learning_rate': 9.747023809523809e-05, 'epoch': 20.0}\n"
     ]
    },
    {
     "name": "stderr",
     "output_type": "stream",
     "text": [
      " 96%|█████████▌| 5161/5376 [18:28<00:36,  5.81it/s]"
     ]
    },
    {
     "name": "stdout",
     "output_type": "stream",
     "text": [
      "{'loss': 5.4401, 'grad_norm': 1.2052289247512817, 'learning_rate': 8.258928571428572e-05, 'epoch': 20.16}\n"
     ]
    },
    {
     "name": "stderr",
     "output_type": "stream",
     "text": [
      " 97%|█████████▋| 5200/5376 [18:35<00:29,  5.89it/s]"
     ]
    },
    {
     "name": "stdout",
     "output_type": "stream",
     "text": [
      "{'loss': 5.4479, 'grad_norm': 1.1710646152496338, 'learning_rate': 6.770833333333333e-05, 'epoch': 20.31}\n"
     ]
    },
    {
     "name": "stderr",
     "output_type": "stream",
     "text": [
      "                                                   \n",
      " 97%|█████████▋| 5200/5376 [18:37<00:29,  5.89it/s]"
     ]
    },
    {
     "name": "stdout",
     "output_type": "stream",
     "text": [
      "{'eval_loss': 6.0683979988098145, 'eval_accuracy': 0.004395604395604396, 'eval_runtime': 2.6046, 'eval_samples_per_second': 174.692, 'eval_steps_per_second': 21.885, 'epoch': 20.31}\n"
     ]
    },
    {
     "name": "stderr",
     "output_type": "stream",
     "text": [
      " 97%|█████████▋| 5241/5376 [18:45<00:22,  6.00it/s]"
     ]
    },
    {
     "name": "stdout",
     "output_type": "stream",
     "text": [
      "{'loss': 5.3717, 'grad_norm': 1.3812065124511719, 'learning_rate': 5.2827380952380956e-05, 'epoch': 20.47}\n"
     ]
    },
    {
     "name": "stderr",
     "output_type": "stream",
     "text": [
      " 98%|█████████▊| 5281/5376 [18:52<00:15,  6.02it/s]"
     ]
    },
    {
     "name": "stdout",
     "output_type": "stream",
     "text": [
      "{'loss': 5.2916, 'grad_norm': 1.2985068559646606, 'learning_rate': 3.794642857142857e-05, 'epoch': 20.62}\n"
     ]
    },
    {
     "name": "stderr",
     "output_type": "stream",
     "text": [
      "                                                   \n",
      " 99%|█████████▊| 5300/5376 [18:57<00:12,  6.05it/s]"
     ]
    },
    {
     "name": "stdout",
     "output_type": "stream",
     "text": [
      "{'eval_loss': 6.078155040740967, 'eval_accuracy': 0.004395604395604396, 'eval_runtime': 2.6036, 'eval_samples_per_second': 174.759, 'eval_steps_per_second': 21.893, 'epoch': 20.7}\n"
     ]
    },
    {
     "name": "stderr",
     "output_type": "stream",
     "text": [
      " 99%|█████████▉| 5321/5376 [19:02<00:09,  5.99it/s]"
     ]
    },
    {
     "name": "stdout",
     "output_type": "stream",
     "text": [
      "{'loss': 5.3847, 'grad_norm': 1.2946176528930664, 'learning_rate': 2.306547619047619e-05, 'epoch': 20.78}\n"
     ]
    },
    {
     "name": "stderr",
     "output_type": "stream",
     "text": [
      "100%|█████████▉| 5361/5376 [19:08<00:02,  6.03it/s]"
     ]
    },
    {
     "name": "stdout",
     "output_type": "stream",
     "text": [
      "{'loss': 5.3668, 'grad_norm': 1.496396780014038, 'learning_rate': 8.18452380952381e-06, 'epoch': 20.94}\n"
     ]
    },
    {
     "name": "stderr",
     "output_type": "stream",
     "text": [
      "100%|██████████| 5376/5376 [19:11<00:00,  4.67it/s]"
     ]
    },
    {
     "name": "stdout",
     "output_type": "stream",
     "text": [
      "{'train_runtime': 1155.0712, 'train_samples_per_second': 74.323, 'train_steps_per_second': 4.654, 'train_loss': 5.683738708496094, 'epoch': 21.0}\n",
      "***** train metrics *****\n",
      "  epoch                    =         21.0\n",
      "  total_flos               = 6220364240GF\n",
      "  train_loss               =       5.6837\n",
      "  train_runtime            =   0:19:15.07\n",
      "  train_samples_per_second =       74.323\n",
      "  train_steps_per_second   =        4.654\n"
     ]
    },
    {
     "name": "stderr",
     "output_type": "stream",
     "text": [
      "\n"
     ]
    }
   ],
   "source": [
    "train_results = trainer.train()\n",
    "trainer.save_model()\n",
    "trainer.log_metrics(\"train\", train_results.metrics)\n",
    "trainer.save_metrics(\"train\", train_results.metrics)\n",
    "trainer.save_state()"
   ]
  }
 ],
 "metadata": {
  "kernelspec": {
   "display_name": "Python 3",
   "language": "python",
   "name": "python3"
  },
  "language_info": {
   "codemirror_mode": {
    "name": "ipython",
    "version": 3
   },
   "file_extension": ".py",
   "mimetype": "text/x-python",
   "name": "python",
   "nbconvert_exporter": "python",
   "pygments_lexer": "ipython3",
   "version": "3.12.1"
  }
 },
 "nbformat": 4,
 "nbformat_minor": 2
}
