{
 "cells": [
  {
   "cell_type": "code",
   "execution_count": 3,
   "metadata": {},
   "outputs": [],
   "source": [
    "# NOTE: Do not consider this code for my submission, as while I have performed the preprocessing, I have not trained my model on that preprocessed data.\n",
    "# This training on the newly preprocessed data can be a good future work task.\n",
    "import os\n",
    "import cv2\n",
    "import pandas as pd\n",
    "\n",
    "def resize_images_in_folder(input_folder, output_folder, csv_file):\n",
    "    if not os.path.exists(output_folder):\n",
    "        os.makedirs(output_folder)\n",
    "        \n",
    "    files = os.listdir(input_folder) \n",
    "    image_data = []\n",
    "\n",
    "    for file_name in files:\n",
    "    \n",
    "        input_file_path = os.path.join(input_folder, file_name)\n",
    "        if input_file_path.endswith(('.jpg', '.jpeg', '.png', '.bmp', '.tif', '.tiff')):\n",
    "            img = cv2.imread(input_file_path)\n",
    "            if img is None:\n",
    "                print(f\"Error: Image {file_name} not loaded!\")\n",
    "                continue\n",
    "            \n",
    "            # Get original dimensions\n",
    "            original_height, original_width, _ = img.shape\n",
    "            \n",
    "            # Resize the image\n",
    "            resized_img = cv2.resize(img, (256, 256)) # Resize the image to 256x256 pixels\n",
    "            \n",
    "            # Calculate scaling ratios\n",
    "            width_scaling_ratio = 256 / original_width\n",
    "            height_scaling_ratio = 256 / original_height\n",
    "            \n",
    "            output_file_path = os.path.join(output_folder, file_name)\n",
    "            \n",
    "            # Save the resized image\n",
    "            cv2.imwrite(output_file_path, resized_img)\n",
    "            image_info = {\n",
    "                'file_name': file_name,\n",
    "                'x_scale_ratio': width_scaling_ratio,\n",
    "                'y_scale_ratio': height_scaling_ratio\n",
    "            }\n",
    "            image_data.append(image_info)\n",
    "    \n",
    "    df = pd.DataFrame(image_data)\n",
    "    df.to_csv(csv_file, index=False)"
   ]
  },
  {
   "cell_type": "code",
   "execution_count": 7,
   "metadata": {},
   "outputs": [],
   "source": [
    "input_folder = '../dataset/imgs'\n",
    "output_folder = '../dataset/imgs256x256#2'\n",
    "csv_file = '../image_info.csv'\n",
    "\n",
    "resize_images_in_folder(input_folder, output_folder, csv_file)"
   ]
  }
 ],
 "metadata": {
  "kernelspec": {
   "display_name": "Python 3",
   "language": "python",
   "name": "python3"
  },
  "language_info": {
   "codemirror_mode": {
    "name": "ipython",
    "version": 3
   },
   "file_extension": ".py",
   "mimetype": "text/x-python",
   "name": "python",
   "nbconvert_exporter": "python",
   "pygments_lexer": "ipython3",
   "version": "3.12.1"
  }
 },
 "nbformat": 4,
 "nbformat_minor": 2
}
