{
 "cells": [
  {
   "cell_type": "markdown",
   "metadata": {},
   "source": [
    "### Extract Bounding Box Co-ordinates"
   ]
  },
  {
   "cell_type": "markdown",
   "metadata": {},
   "source": [
    "#### NOTE: Do not consider this for my submission, as I have not trained my model on this preprocessed data."
   ]
  },
  {
   "cell_type": "code",
   "execution_count": 3,
   "metadata": {},
   "outputs": [
    {
     "name": "stdout",
     "output_type": "stream",
     "text": [
      "Data has been extracted and saved to dataset/whale_face_bounding_box_coordinates.csv\n"
     ]
    }
   ],
   "source": [
    "import csv\n",
    "import json\n",
    "import os\n",
    "\n",
    "# Load face annotations for whales\n",
    "with open('annotations/whale_faces_Vinh.json', 'r') as f:\n",
    "    data = json.load(f)\n",
    "\n",
    "# Specify the CSV file name\n",
    "csv_file = 'annotations/whale_face_bounding_box_coordinates.csv'\n",
    "\n",
    "# Open the CSV file in write mode and specify the header\n",
    "with open(csv_file, 'w', newline='') as csvfile:\n",
    "    fieldnames = ['Image', 'whaleID', 'x', 'y', 'width', 'height']\n",
    "    writer = csv.DictWriter(csvfile, fieldnames=fieldnames)\n",
    "    \n",
    "    # Write the header to the CSV file\n",
    "    writer.writeheader()\n",
    "    \n",
    "    # Iterate over each entry in the JSON data\n",
    "    for entry in data:\n",
    "        # Extract filename\n",
    "        filename = entry['filename']\n",
    "        \n",
    "        # Extract whaleID and Image from filename\n",
    "        whaleID = os.path.basename(os.path.dirname(filename))\n",
    "        image = os.path.basename(filename)\n",
    "        \n",
    "        # Extract annotations\n",
    "        annotations = entry['annotations']\n",
    "        \n",
    "        # Iterate over each annotation in the annotations list\n",
    "        for annotation in annotations:\n",
    "            # Extract x, y, width, height\n",
    "            x = annotation['x']\n",
    "            y = annotation['y']\n",
    "            width = annotation['width']\n",
    "            height = annotation['height']\n",
    "            \n",
    "            # Write the extracted information to the CSV file\n",
    "            writer.writerow({'Image': image, 'whaleID': whaleID,\n",
    "                             'x': x, 'y': y, 'width': width, 'height': height})\n",
    "\n",
    "print(\"Data has been extracted and saved to\", csv_file)"
   ]
  },
  {
   "cell_type": "markdown",
   "metadata": {},
   "source": [
    "### Extract Scaled Co-ordinates"
   ]
  },
  {
   "cell_type": "code",
   "execution_count": 5,
   "metadata": {},
   "outputs": [],
   "source": [
    "import pandas as pd\n",
    "\n",
    "# Load the first CSV file with scaling ratios\n",
    "scaling_data = pd.read_csv('img_scale_ratio_info.csv')\n",
    "\n",
    "# Load the second CSV file with image data\n",
    "image_data = pd.read_csv('annotations/whale_face_bounding_box_coordinates.csv')\n",
    "\n",
    "# Merge the two dataframes based on the 'Image' and 'file_name' columns\n",
    "merged_data = pd.merge(image_data, scaling_data, left_on='Image', right_on='file_name')\n",
    "\n",
    "# Apply scaling ratios to the coordinate columns\n",
    "merged_data['x'] = merged_data['x'] * merged_data['x_scale_ratio']\n",
    "merged_data['y'] = merged_data['y'] * merged_data['y_scale_ratio']\n",
    "merged_data['width'] = merged_data['width'] * merged_data['x_scale_ratio']\n",
    "merged_data['height'] = merged_data['height'] * merged_data['y_scale_ratio']\n",
    "\n",
    "# Select and reorder the columns for the final CSV file\n",
    "final_data = merged_data[['Image', 'whaleID', 'x', 'y', 'width', 'height']]\n",
    "\n",
    "# Write the final data to a CSV file\n",
    "final_data.to_csv('annotations/whale_face_bounding_box_coordinates_scaled.csv', index=False)"
   ]
  }
 ],
 "metadata": {
  "kernelspec": {
   "display_name": "Python 3",
   "language": "python",
   "name": "python3"
  },
  "language_info": {
   "codemirror_mode": {
    "name": "ipython",
    "version": 3
   },
   "file_extension": ".py",
   "mimetype": "text/x-python",
   "name": "python",
   "nbconvert_exporter": "python",
   "pygments_lexer": "ipython3",
   "version": "3.12.1"
  }
 },
 "nbformat": 4,
 "nbformat_minor": 2
}
